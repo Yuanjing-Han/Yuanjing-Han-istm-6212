{
 "cells": [
  {
   "cell_type": "markdown",
   "metadata": {},
   "source": [
    "# Exercise 04 - Due Friday, October 21 at 12pm\n",
    "\n",
    "*Objectives*: Gain experience loading a CSV dataset into a database model you define yourself and using SQL to explore its contents. Explore the data by writing and executing a number of SQL queries using common syntax and functions and describing your findings.\n",
    "\n",
    "*Grading criteria*: The tasks should all be completed, and questions should all be answered with SQL queries in the space provided, unless a text answer is requested. Results should be correct, according to the embedded tests. The notebook itself should be completely reproducible; from start to finish, another person should be able to use the same code to obtain the same results as yours.  Note that you will receive no more than partial credit if you do not add text/markdown cells explaining your thinking at each major step in each problem.\n",
    "\n",
    "*Deadline*: Friday, October 21, 12pm. Submit your notebook to Blackboard and push it to your GitHub repository.\n",
    "\n",
    "## Setup - obtain data and create database\n",
    "\n",
    "The US City Open Data Census has data on [restaurant inspections from all over the country](http://us-city.census.okfn.org/dataset/food-safety).  Let's take a look at data from Albuquerque.  *Note*: metadata and other details for this dataset are available at http://data.cabq.gov/business/foodinspections/.\n",
    "\n",
    "Fyi, to save you a step, I've converted this file into a clean CSV file by using the `dos2unix` command to change its line endings and to switch it to use commas instead of tabs using `csvformat -t inputfile.csv > outputfile.csv`.\n",
    "\n",
    "First we download the dataset:"
   ]
  },
  {
   "cell_type": "code",
   "execution_count": 1,
   "metadata": {
    "collapsed": false
   },
   "outputs": [
    {
     "name": "stdout",
     "output_type": "stream",
     "text": [
      "--2016-10-24 14:34:55--  https://raw.githubusercontent.com/gwsb-istm-6212-fall-2016/syllabus-and-schedule/master/exercises/abq-food-inspections-fy2010.csv\n",
      "Resolving raw.githubusercontent.com (raw.githubusercontent.com)... 151.101.32.133\n",
      "Connecting to raw.githubusercontent.com (raw.githubusercontent.com)|151.101.32.133|:443... connected.\n",
      "HTTP request sent, awaiting response... 200 OK\n",
      "Length: 5025226 (4.8M) [text/plain]\n",
      "Saving to: ‘abq-food-inspections-fy2010.csv’\n",
      "\n",
      "abq-food-inspection 100%[=====================>]   4.79M  --.-KB/s   in 0.08s  \n",
      "\n",
      "2016-10-24 14:34:55 (56.6 MB/s) - ‘abq-food-inspections-fy2010.csv’ saved [5025226/5025226]\n",
      "\n"
     ]
    }
   ],
   "source": [
    "!wget https://raw.githubusercontent.com/gwsb-istm-6212-fall-2016/syllabus-and-schedule/master/exercises/abq-food-inspections-fy2010.csv"
   ]
  },
  {
   "cell_type": "markdown",
   "metadata": {},
   "source": [
    "## Problem 1 - examine the data (35 points)\n",
    "\n",
    "Use `csvstat` and other tools as you see fit and observe its contents.  Review the metadata definitions linked to above.  Describe what you see:  What do all the columns mean?  Are there null values?  Which columns interest you the most?  Which columns present some complications or questions you would like to ask?"
   ]
  },
  {
   "cell_type": "code",
   "execution_count": 2,
   "metadata": {
    "collapsed": false
   },
   "outputs": [],
   "source": [
    "!mv abq-food-inspections-fy2010.csv foodinspection.csv"
   ]
  },
  {
   "cell_type": "code",
   "execution_count": 3,
   "metadata": {
    "collapsed": false
   },
   "outputs": [
    {
     "name": "stdout",
     "output_type": "stream",
     "text": [
      "17557 foodinspection.csv\r\n"
     ]
    }
   ],
   "source": [
    "!wc -l foodinspection.csv"
   ]
  },
  {
   "cell_type": "code",
   "execution_count": 4,
   "metadata": {
    "collapsed": false
   },
   "outputs": [
    {
     "name": "stdout",
     "output_type": "stream",
     "text": [
      "  1: FACILITY_NAME\r\n",
      "  2: FACILITY_KEY\r\n",
      "  3: SITE_ADDRESS\r\n",
      "  4: CITY\r\n",
      "  5: STATE\r\n",
      "  6: ZIP\r\n",
      "  7: OWNER_KEY\r\n",
      "  8: OWNER_NAME\r\n",
      "  9: NATURE_OF_BUSINESS\r\n",
      " 10: STREET_NUMBER\r\n",
      " 11: STREET_NAME\r\n",
      " 12: STREET_TYPE\r\n",
      " 13: POST_DIRECTIONAL\r\n",
      " 14: PHONE\r\n",
      " 15: PROGRAM_CATEGORY\r\n",
      " 16: PROGRAM_CATEGORY_DESCRIPTION\r\n",
      " 17: INSPECTION_DATE\r\n",
      " 18: INSPECTION_TYPE\r\n",
      " 19: INSPECTION_DESC\r\n",
      " 20: SERIAL_NUM\r\n",
      " 21: ACTION_CODE\r\n",
      " 22: ACTION_DESC\r\n",
      " 23: RESULT_CODE\r\n",
      " 24: RESULT_DESC\r\n",
      " 25: VIOLATION_CODE\r\n",
      " 26: VIOLATION_DESC\r\n",
      " 27: INSPECTION_MEMO\r\n"
     ]
    }
   ],
   "source": [
    "!csvcut -n foodinspection.csv"
   ]
  },
  {
   "cell_type": "markdown",
   "metadata": {},
   "source": [
    "1: FACILITY_NAME:Name of the facility where the inspection occurred\n",
    "2: FACILITY_KEY:The unique identifier (key) of the facility where the inspection occurred\n",
    "3: SITE_ADDRESS:Street address of the facility where the inspection occurred\n",
    "4: CITY:City of the facility where the inspection occurred\n",
    "5: STATE:State of the facility where the inspection occurred\n",
    "6: ZIP:Zip of the facility where the inspection occurred\n",
    "7: OWNER_KEY:The unique identifier (key) of the Owner of the facility where the inspection occurred at the time of the inspection\n",
    "8: OWNER_NAME:Name of the Owner of the facility where the inspection occurred at the time of the inspection\n",
    "9: NATURE_OF_BUSINESS:The type of business, originally for internal use only, provides information about the business. This is not the information provided on the federal tax form.\n",
    "10: STREET_NUMBER:Street number of the facility where the inspection occurred\n",
    "11: STREET_NAME:Street name of the facility where the inspection occurred\n",
    "12: STREET_TYPE:Street type of the facility where the inspection occurred\n",
    "13: POST_DIRECTIONAL:Postal direction of the facility where the inspection occurred\n",
    "14: PHONE:Phone number of the facility where the inspection occurred\n",
    "15: PROGRAM_CATEGORY:Id that indicates the type of facility permit the inspection was performed\n",
    "16: PROGRAM_CATEGORY_DESCRIPTION:Descript of the id that indicates the type of facility\n",
    "17: INSPECTION_DATE:Date the inspection occurred\n",
    "18: INSPECTION_TYPE:Code for type of inspection\n",
    "19: INSPECTION_DESC:Description of the inspection\n",
    "20: SERIAL_NUM:Unique ID for the inspection daily activity. This is a sequential number assigned chronologically as the data is entered into the system. If there are multiple rows with the same OWNER_ID and INSPECTION_DATE and SERIAL_NUM, itmeans that there were multiple rows created for one inspection (multiple results were recorded). If there are multiple rows with the same OWNER_ID and INSPECTION_DATE and a different SERIAL_NUM, it means that there were multiple inspections taken on the same day and the highest SERIAL_NUM is intended to be the most recent inspection.\n",
    "21: ACTION_CODE:Code of the action taken. If the ACTION_CODE is equal to 00 – NON-GRADED this indicates that the inspector was unable to actually perform an inspection. The RESULT_CODE documents the situation.\n",
    "22: ACTION_DESC:Description of the action taken\n",
    "23: RESULT_CODE:Code of the result of the inspection\n",
    "24: RESULT_DESC:Description of the result of the inspection\n",
    "25: VIOLATION_CODE:The code for the violation\n",
    "26: VIOLATION_DESC:Description of the violation that was found\n",
    "27: INSPECTION_MEMO:Notes from the inspection made by the inspector"
   ]
  },
  {
   "cell_type": "code",
   "execution_count": 5,
   "metadata": {
    "collapsed": false
   },
   "outputs": [
    {
     "name": "stdout",
     "output_type": "stream",
     "text": [
      "|----------------------+--------------+-------------------------------+-------------+-------+-------+-----------+---------------------+--------------------+---------------+-------------+-------------+------------------+------------+------------------+------------------------------+---------------------+-----------------+-------------------------+------------+-------------+-------------+-------------+----------------+----------------+----------------------------------+------------------|\n",
      "|  FACILITY_NAME       | FACILITY_KEY | SITE_ADDRESS                  | CITY        | STATE | ZIP   | OWNER_KEY | OWNER_NAME          | NATURE_OF_BUSINESS | STREET_NUMBER | STREET_NAME | STREET_TYPE | POST_DIRECTIONAL | PHONE      | PROGRAM_CATEGORY | PROGRAM_CATEGORY_DESCRIPTION | INSPECTION_DATE     | INSPECTION_TYPE | INSPECTION_DESC         | SERIAL_NUM | ACTION_CODE | ACTION_DESC | RESULT_CODE | RESULT_DESC    | VIOLATION_CODE | VIOLATION_DESC                   | INSPECTION_MEMO  |\n",
      "|----------------------+--------------+-------------------------------+-------------+-------+-------+-----------+---------------------+--------------------+---------------+-------------+-------------+------------------+------------+------------------+------------------------------+---------------------+-----------------+-------------------------+------------+-------------+-------------+-------------+----------------+----------------+----------------------------------+------------------|\n",
      "|  00BSAY IT WITH CAKE | 50534        | 10200 GOLF COURSE RD NW STE B | ALBUQUERQUE | NM    | 87114 | 47341     | OOBSAY IT WITH CAKE | CAKE DECORATING    | 10200         | GOLF COURSE | RD          | NW               | 5058339563 | 0405             | Food Processor               | 2009-10-21 00:00:00 |                 | EMERGENCY RESPONSE      | DA8009125  | 00          | NON-GRADED  | 00          | NOT APPLICABLE |     68         | Delivered Informational Brochure |                  |\n",
      "|  00BSAY IT WITH CAKE | 50534        | 10200 GOLF COURSE RD NW STE B | ALBUQUERQUE | NM    | 87114 | 47341     | OOBSAY IT WITH CAKE | CAKE DECORATING    | 10200         | GOLF COURSE | RD          | NW               | 5058339563 | 0405             | Food Processor               | 2009-10-21 00:00:00 |                 | ROUTINE FOOD INSPECTION | DA8009123  | 11          | APPROVED    | 03          | IN COMPLIANCE  |     00         | No Violations Found              |                  |\n",
      "|  00BSAY IT WITH CAKE | 50534        | 10200 GOLF COURSE RD NW STE B | ALBUQUERQUE | NM    | 87114 | 47341     | OOBSAY IT WITH CAKE | CAKE DECORATING    | 10200         | GOLF COURSE | RD          | NW               | 5058339563 | 0405             | Food Processor               | 2009-10-21 00:00:00 |                 | ROUTINE FOOD INSPECTION | DA8009123  | 11          | APPROVED    | 03          | IN COMPLIANCE  |     55         | Additional Comments              |                  |\n",
      "|  00BSAY IT WITH CAKE | 50534        | 10200 GOLF COURSE RD NW STE B | ALBUQUERQUE | NM    | 87114 | 47341     | OOBSAY IT WITH CAKE | CAKE DECORATING    | 10200         | GOLF COURSE | RD          | NW               | 5058339563 | 0405             | Food Processor               | 2010-04-14 00:00:00 |                 | ROUTINE FOOD INSPECTION | DA8010205  | 11          | APPROVED    | 03          | IN COMPLIANCE  |     00         | No Violations Found              |                  |\n",
      "|----------------------+--------------+-------------------------------+-------------+-------+-------+-----------+---------------------+--------------------+---------------+-------------+-------------+------------------+------------+------------------+------------------------------+---------------------+-----------------+-------------------------+------------+-------------+-------------+-------------+----------------+----------------+----------------------------------+------------------|\n"
     ]
    }
   ],
   "source": [
    "!head -5 foodinspection.csv | csvlook"
   ]
  },
  {
   "cell_type": "code",
   "execution_count": null,
   "metadata": {
    "collapsed": false
   },
   "outputs": [],
   "source": [
    "!shuf -n 17557 foodinspection.csv | csvstat"
   ]
  },
  {
   "cell_type": "markdown",
   "metadata": {},
   "source": [
    "There are 12 columns that have NULL values, the column name of which are site_address,nature_of_business,street_number,\n",
    "street_name,street_type,post_direction,phone,program_catrgory_description,inspection_type,violation_code,violation_desc\n",
    "and inspection_memo."
   ]
  },
  {
   "cell_type": "markdown",
   "metadata": {},
   "source": [
    "Since the data is about food inspections, I found serial_num,inspection_date,inspection_type,action_desc and \n",
    "violation_desc interest me the most. Based on these columns, I can ask there are how many inspections actually happened? Which day of the week did the inspections happen the most frequently? During a specific time period, how many inspections were approved or found violation?"
   ]
  },
  {
   "cell_type": "markdown",
   "metadata": {},
   "source": [
    "Insert a combination of code and text/markdown cells here to review the data and describe what you find."
   ]
  },
  {
   "cell_type": "markdown",
   "metadata": {},
   "source": [
    "## Problem 2 - define a database model and load the data (35 points)\n",
    "\n",
    "Based on what you found above, create and connect to a new database, define a database table in it, and load this dataset into it.  You may use either of the methods for this step you have seen in earlier class notebooks.  You may choose to eliminate variables/columns if they are not relevant or interesting to you - explain your reasoning if you do.  Either way, you should load a majority of the columns present in the source dataset into the database and all of its rows.\n",
    "\n",
    "Once your data has loaded successfully, run a `COUNT(*)` query to verify that all the data has loaded correctly.\n",
    "\n",
    "Insert a combination of code and text/markdown cells here to connect to your database, define your table, load its data, and verify the loaded records."
   ]
  },
  {
   "cell_type": "code",
   "execution_count": 5,
   "metadata": {
    "collapsed": false
   },
   "outputs": [
    {
     "name": "stdout",
     "output_type": "stream",
     "text": [
      "[sudo] password for jovyan: Restarting PostgreSQL 9.5 database server: main.\n"
     ]
    }
   ],
   "source": [
    "!echo 'redspot' | sudo -S service postgresql restart"
   ]
  },
  {
   "cell_type": "markdown",
   "metadata": {},
   "source": [
    "Create a database named foodinspection for the dbuser."
   ]
  },
  {
   "cell_type": "code",
   "execution_count": 6,
   "metadata": {
    "collapsed": false
   },
   "outputs": [],
   "source": [
    "!createdb -U dbuser foodinspections"
   ]
  },
  {
   "cell_type": "code",
   "execution_count": 7,
   "metadata": {
    "collapsed": false
   },
   "outputs": [
    {
     "name": "stderr",
     "output_type": "stream",
     "text": [
      "/opt/conda/lib/python3.5/site-packages/IPython/config.py:13: ShimWarning: The `IPython.config` package has been deprecated. You should import from traitlets.config instead.\n",
      "  \"You should import from traitlets.config instead.\", ShimWarning)\n",
      "/opt/conda/lib/python3.5/site-packages/IPython/utils/traitlets.py:5: UserWarning: IPython.utils.traitlets has moved to a top-level traitlets package.\n",
      "  warn(\"IPython.utils.traitlets has moved to a top-level traitlets package.\")\n"
     ]
    }
   ],
   "source": [
    "%load_ext sql"
   ]
  },
  {
   "cell_type": "markdown",
   "metadata": {},
   "source": [
    "Connect to 'foodinspections' database of dbuser."
   ]
  },
  {
   "cell_type": "code",
   "execution_count": 8,
   "metadata": {
    "collapsed": false
   },
   "outputs": [
    {
     "data": {
      "text/plain": [
       "'Connected: dbuser@foodinspections'"
      ]
     },
     "execution_count": 8,
     "metadata": {},
     "output_type": "execute_result"
    }
   ],
   "source": [
    "%sql postgresql://dbuser@localhost:5432/foodinspections"
   ]
  },
  {
   "cell_type": "markdown",
   "metadata": {},
   "source": [
    "Create a database table named 'food_inspection'."
   ]
  },
  {
   "cell_type": "code",
   "execution_count": 9,
   "metadata": {
    "collapsed": false
   },
   "outputs": [
    {
     "name": "stdout",
     "output_type": "stream",
     "text": [
      "Done.\n",
      "Done.\n"
     ]
    },
    {
     "data": {
      "text/plain": [
       "[]"
      ]
     },
     "execution_count": 9,
     "metadata": {},
     "output_type": "execute_result"
    }
   ],
   "source": [
    "%%sql\n",
    "DROP TABLE IF EXISTS food_inspection;\n",
    "CREATE TABLE food_inspection (\n",
    "    facility_name VARCHAR(202),\n",
    "    facility_key CHAR(20),\n",
    "    site_address VARCHAR(102),\n",
    "    city VARCHAR(52),\n",
    "    state CHAR(6),\n",
    "    zip CHAR(22),\n",
    "    owner_key CHAR(26),\n",
    "    owner_name VARCHAR(202),\n",
    "    nature_of_business CHAR(25),\n",
    "    street_number CHAR(16),\n",
    "    street_name VARCHAR(52),\n",
    "    street_type CHAR(10),\n",
    "    post_directional CHAR(6),\n",
    "    phone CHAR(42),\n",
    "    program_category CHAR(10),\n",
    "    program_category_des VARCHAR(64),\n",
    "    inspection_date TIMESTAMP,\n",
    "    inspection_type CHAR(4),\n",
    "    inspection_desc VARCHAR(102),\n",
    "    serial_num CHAR(20),\n",
    "    action_code CHAR(6),\n",
    "    action_desc VARCHAR(102),\n",
    "    result_code CHAR(6),\n",
    "    result_desc VARCHAR(102),\n",
    "    violation_code CHAR(14),\n",
    "    violation_desc VARCHAR(202),\n",
    "    inspection_memo VARCHAR(502)\n",
    ")"
   ]
  },
  {
   "cell_type": "markdown",
   "metadata": {},
   "source": [
    "Copy the data from foodinspection.csv to the new table 'food_inspection' or in other words, load the csv dataset into the new database table. "
   ]
  },
  {
   "cell_type": "code",
   "execution_count": 10,
   "metadata": {
    "collapsed": false
   },
   "outputs": [
    {
     "name": "stdout",
     "output_type": "stream",
     "text": [
      "17556 rows affected.\n"
     ]
    },
    {
     "data": {
      "text/plain": [
       "[]"
      ]
     },
     "execution_count": 10,
     "metadata": {},
     "output_type": "execute_result"
    }
   ],
   "source": [
    "%%sql\n",
    "COPY food_inspection FROM '/home/jovyan/work/foodinspection.csv'\n",
    "CSV\n",
    "HEADER\n",
    "QUOTE '\"'\n",
    "DELIMITER ',';"
   ]
  },
  {
   "cell_type": "code",
   "execution_count": null,
   "metadata": {
    "collapsed": false
   },
   "outputs": [],
   "source": [
    "%%sql\n",
    "SELECT *\n",
    "FROM food_inspection\n",
    "LIMIT 50;"
   ]
  },
  {
   "cell_type": "code",
   "execution_count": 12,
   "metadata": {
    "collapsed": false
   },
   "outputs": [
    {
     "name": "stdout",
     "output_type": "stream",
     "text": [
      "1 rows affected.\n"
     ]
    },
    {
     "data": {
      "text/html": [
       "<table>\n",
       "    <tr>\n",
       "        <th>count</th>\n",
       "    </tr>\n",
       "    <tr>\n",
       "        <td>17556</td>\n",
       "    </tr>\n",
       "</table>"
      ],
      "text/plain": [
       "[(17556,)]"
      ]
     },
     "execution_count": 12,
     "metadata": {},
     "output_type": "execute_result"
    }
   ],
   "source": [
    "%%sql\n",
    "SELECT COUNT(*) FROM food_inspection;"
   ]
  },
  {
   "cell_type": "markdown",
   "metadata": {},
   "source": [
    "## Problem 3 - explore your data (30 points)\n",
    "\n",
    "Now that the data is loaded, ask some questions of it!  Identify key variables of interest and note their ranges along with other useful descriptive statistics.  Choose and define a few lines of inquiry, execute queries for each, and describe what you find in your result sets.  Use any query techniques we've seen in class, including aggregate functions, transformations, subqueries, or others as appropriate. \n",
    "\n",
    "If you find interesting patterns, adding plots to your exploration would be useful.\n",
    "\n",
    "Insert a combination of code and text/markdown cells here to explore your data."
   ]
  },
  {
   "cell_type": "code",
   "execution_count": 13,
   "metadata": {
    "collapsed": false
   },
   "outputs": [
    {
     "name": "stdout",
     "output_type": "stream",
     "text": [
      "Done.\n",
      "Done.\n"
     ]
    },
    {
     "data": {
      "text/plain": [
       "[]"
      ]
     },
     "execution_count": 13,
     "metadata": {},
     "output_type": "execute_result"
    }
   ],
   "source": [
    "%%sql\n",
    "DROP TABLE IF EXISTS inspection;\n",
    "CREATE TABLE inspection(\n",
    "    facility_name VARCHAR(202),\n",
    "    owner_key CHAR(26),\n",
    "    inspection_date TIMESTAMP,\n",
    "    inspection_desc VARCHAR(102),\n",
    "    serial_num CHAR(20),\n",
    "    action_desc VARCHAR(102),\n",
    "    result_desc VARCHAR(102),\n",
    "    violation_desc VARCHAR(202)\n",
    ");"
   ]
  },
  {
   "cell_type": "code",
   "execution_count": 14,
   "metadata": {
    "collapsed": false
   },
   "outputs": [
    {
     "name": "stdout",
     "output_type": "stream",
     "text": [
      "17556 rows affected.\n"
     ]
    },
    {
     "data": {
      "text/plain": [
       "[]"
      ]
     },
     "execution_count": 14,
     "metadata": {},
     "output_type": "execute_result"
    }
   ],
   "source": [
    "%%sql\n",
    "INSERT INTO inspection(facility_name,owner_key,inspection_date,inspection_desc,serial_num,action_desc,result_desc,violation_desc)\n",
    "SELECT DISTINCT facility_name,owner_key,inspection_date,inspection_desc,serial_num,action_desc,result_desc,violation_desc\n",
    "FROM food_inspection;"
   ]
  },
  {
   "cell_type": "code",
   "execution_count": 21,
   "metadata": {
    "collapsed": false
   },
   "outputs": [
    {
     "name": "stdout",
     "output_type": "stream",
     "text": [
      "5 rows affected.\n"
     ]
    },
    {
     "data": {
      "text/html": [
       "<table>\n",
       "    <tr>\n",
       "        <th>facility_name</th>\n",
       "        <th>owner_key</th>\n",
       "        <th>inspection_date</th>\n",
       "        <th>inspection_desc</th>\n",
       "        <th>serial_num</th>\n",
       "        <th>action_desc</th>\n",
       "        <th>result_desc</th>\n",
       "        <th>violation_desc</th>\n",
       "    </tr>\n",
       "    <tr>\n",
       "        <td>00BSAY IT WITH CAKE</td>\n",
       "        <td>47341                     </td>\n",
       "        <td>2010-04-14 00:00:00</td>\n",
       "        <td>ROUTINE FOOD INSPECTION</td>\n",
       "        <td>DA8010205           </td>\n",
       "        <td>APPROVED</td>\n",
       "        <td>IN COMPLIANCE</td>\n",
       "        <td>No Violations Found</td>\n",
       "    </tr>\n",
       "    <tr>\n",
       "        <td>00BSAY IT WITH CAKE</td>\n",
       "        <td>47341                     </td>\n",
       "        <td>2009-10-21 00:00:00</td>\n",
       "        <td>EMERGENCY RESPONSE</td>\n",
       "        <td>DA8009125           </td>\n",
       "        <td>NON-GRADED</td>\n",
       "        <td>NOT APPLICABLE</td>\n",
       "        <td>Delivered Informational Brochure</td>\n",
       "    </tr>\n",
       "    <tr>\n",
       "        <td>00BSAY IT WITH CAKE</td>\n",
       "        <td>47341                     </td>\n",
       "        <td>2009-10-21 00:00:00</td>\n",
       "        <td>ROUTINE FOOD INSPECTION</td>\n",
       "        <td>DA8009123           </td>\n",
       "        <td>APPROVED</td>\n",
       "        <td>IN COMPLIANCE</td>\n",
       "        <td>Additional Comments</td>\n",
       "    </tr>\n",
       "    <tr>\n",
       "        <td>00BSAY IT WITH CAKE</td>\n",
       "        <td>47341                     </td>\n",
       "        <td>2010-04-14 00:00:00</td>\n",
       "        <td>ROUTINE FOOD INSPECTION</td>\n",
       "        <td>DA8010205           </td>\n",
       "        <td>APPROVED</td>\n",
       "        <td>IN COMPLIANCE</td>\n",
       "        <td>Additional Comments</td>\n",
       "    </tr>\n",
       "    <tr>\n",
       "        <td>00BSAY IT WITH CAKE</td>\n",
       "        <td>47341                     </td>\n",
       "        <td>2009-10-21 00:00:00</td>\n",
       "        <td>ROUTINE FOOD INSPECTION</td>\n",
       "        <td>DA8009123           </td>\n",
       "        <td>APPROVED</td>\n",
       "        <td>IN COMPLIANCE</td>\n",
       "        <td>No Violations Found</td>\n",
       "    </tr>\n",
       "</table>"
      ],
      "text/plain": [
       "[('00BSAY IT WITH CAKE', '47341                     ', datetime.datetime(2010, 4, 14, 0, 0), 'ROUTINE FOOD INSPECTION', 'DA8010205           ', 'APPROVED', 'IN COMPLIANCE', 'No Violations Found'),\n",
       " ('00BSAY IT WITH CAKE', '47341                     ', datetime.datetime(2009, 10, 21, 0, 0), 'EMERGENCY RESPONSE', 'DA8009125           ', 'NON-GRADED', 'NOT APPLICABLE', 'Delivered Informational Brochure'),\n",
       " ('00BSAY IT WITH CAKE', '47341                     ', datetime.datetime(2009, 10, 21, 0, 0), 'ROUTINE FOOD INSPECTION', 'DA8009123           ', 'APPROVED', 'IN COMPLIANCE', 'Additional Comments'),\n",
       " ('00BSAY IT WITH CAKE', '47341                     ', datetime.datetime(2010, 4, 14, 0, 0), 'ROUTINE FOOD INSPECTION', 'DA8010205           ', 'APPROVED', 'IN COMPLIANCE', 'Additional Comments'),\n",
       " ('00BSAY IT WITH CAKE', '47341                     ', datetime.datetime(2009, 10, 21, 0, 0), 'ROUTINE FOOD INSPECTION', 'DA8009123           ', 'APPROVED', 'IN COMPLIANCE', 'No Violations Found')]"
      ]
     },
     "execution_count": 21,
     "metadata": {},
     "output_type": "execute_result"
    }
   ],
   "source": [
    "%%sql\n",
    "SELECT * \n",
    "FROM inspection\n",
    "ORDER BY facility_name ASC\n",
    "LIMIT 5;"
   ]
  },
  {
   "cell_type": "markdown",
   "metadata": {},
   "source": [
    "How many inspections actually happened?"
   ]
  },
  {
   "cell_type": "code",
   "execution_count": 15,
   "metadata": {
    "collapsed": false
   },
   "outputs": [
    {
     "name": "stdout",
     "output_type": "stream",
     "text": [
      "1 rows affected.\n"
     ]
    },
    {
     "data": {
      "text/html": [
       "<table>\n",
       "    <tr>\n",
       "        <th>count</th>\n",
       "    </tr>\n",
       "    <tr>\n",
       "        <td>9046</td>\n",
       "    </tr>\n",
       "</table>"
      ],
      "text/plain": [
       "[(9046,)]"
      ]
     },
     "execution_count": 15,
     "metadata": {},
     "output_type": "execute_result"
    }
   ],
   "source": [
    "%%sql\n",
    "SELECT COUNT(*)\n",
    "FROM(\n",
    "    SELECT DISTINCT serial_num\n",
    "    FROM inspection) AS d;"
   ]
  },
  {
   "cell_type": "markdown",
   "metadata": {},
   "source": [
    "Of all the food inspections, how many of them are routine food inspection?"
   ]
  },
  {
   "cell_type": "code",
   "execution_count": 16,
   "metadata": {
    "collapsed": false
   },
   "outputs": [
    {
     "name": "stdout",
     "output_type": "stream",
     "text": [
      "1 rows affected.\n"
     ]
    },
    {
     "data": {
      "text/html": [
       "<table>\n",
       "    <tr>\n",
       "        <th>count</th>\n",
       "    </tr>\n",
       "    <tr>\n",
       "        <td>5074</td>\n",
       "    </tr>\n",
       "</table>"
      ],
      "text/plain": [
       "[(5074,)]"
      ]
     },
     "execution_count": 16,
     "metadata": {},
     "output_type": "execute_result"
    }
   ],
   "source": [
    "%%sql\n",
    "SELECT COUNT(*)\n",
    "FROM(\n",
    "    SELECT DISTINCT serial_num,inspection_desc\n",
    "    FROM inspection\n",
    "    WHERE inspection_desc='ROUTINE FOOD INSPECTION')AS d;"
   ]
  },
  {
   "cell_type": "markdown",
   "metadata": {},
   "source": [
    "Of all the food inspections, how many of them are approved by the inspector?"
   ]
  },
  {
   "cell_type": "code",
   "execution_count": 17,
   "metadata": {
    "collapsed": false
   },
   "outputs": [
    {
     "name": "stdout",
     "output_type": "stream",
     "text": [
      "1 rows affected.\n"
     ]
    },
    {
     "data": {
      "text/html": [
       "<table>\n",
       "    <tr>\n",
       "        <th>count</th>\n",
       "    </tr>\n",
       "    <tr>\n",
       "        <td>6019</td>\n",
       "    </tr>\n",
       "</table>"
      ],
      "text/plain": [
       "[(6019,)]"
      ]
     },
     "execution_count": 17,
     "metadata": {},
     "output_type": "execute_result"
    }
   ],
   "source": [
    "%%sql\n",
    "SELECT COUNT(*)\n",
    "FROM(\n",
    "    SELECT DISTINCT serial_num,action_desc\n",
    "    FROM inspection\n",
    "    WHERE action_desc='APPROVED')AS d;"
   ]
  },
  {
   "cell_type": "markdown",
   "metadata": {},
   "source": [
    "Of all the food inspection, how many of them found evidence of insects and rodents?"
   ]
  },
  {
   "cell_type": "code",
   "execution_count": 18,
   "metadata": {
    "collapsed": false
   },
   "outputs": [
    {
     "name": "stdout",
     "output_type": "stream",
     "text": [
      "1 rows affected.\n"
     ]
    },
    {
     "data": {
      "text/html": [
       "<table>\n",
       "    <tr>\n",
       "        <th>count</th>\n",
       "    </tr>\n",
       "    <tr>\n",
       "        <td>65</td>\n",
       "    </tr>\n",
       "</table>"
      ],
      "text/plain": [
       "[(65,)]"
      ]
     },
     "execution_count": 18,
     "metadata": {},
     "output_type": "execute_result"
    }
   ],
   "source": [
    "%%sql\n",
    "SELECT COUNT(*)\n",
    "FROM(\n",
    "    SELECT serial_num,violation_desc\n",
    "    FROM inspection\n",
    "    GROUP BY serial_num,violation_desc)AS d\n",
    "WHERE violation_desc='Evidence of insects'\n",
    "    OR violation_desc='Evidence of rodents';"
   ]
  },
  {
   "cell_type": "markdown",
   "metadata": {},
   "source": [
    "Of all the 7 ELEVEN and its branches, how many of them were found having improper sanitizing and what are the facility names of these 7 ELEVEN branches?"
   ]
  },
  {
   "cell_type": "code",
   "execution_count": 19,
   "metadata": {
    "collapsed": false
   },
   "outputs": [
    {
     "name": "stdout",
     "output_type": "stream",
     "text": [
      "1 rows affected.\n"
     ]
    },
    {
     "data": {
      "text/html": [
       "<table>\n",
       "    <tr>\n",
       "        <th>count</th>\n",
       "    </tr>\n",
       "    <tr>\n",
       "        <td>4</td>\n",
       "    </tr>\n",
       "</table>"
      ],
      "text/plain": [
       "[(4,)]"
      ]
     },
     "execution_count": 19,
     "metadata": {},
     "output_type": "execute_result"
    }
   ],
   "source": [
    "%%sql\n",
    "SELECT COUNT(*)\n",
    "FROM(\n",
    "    SELECT DISTINCT facility_name,violation_desc\n",
    "    FROM inspection\n",
    "    WHERE facility_name LIKE '7 ELEVEN %' and violation_desc = 'Improper sanitizing' \n",
    "    ORDER BY facility_name)AS d;"
   ]
  },
  {
   "cell_type": "code",
   "execution_count": 20,
   "metadata": {
    "collapsed": false
   },
   "outputs": [
    {
     "name": "stdout",
     "output_type": "stream",
     "text": [
      "4 rows affected.\n"
     ]
    },
    {
     "data": {
      "text/html": [
       "<table>\n",
       "    <tr>\n",
       "        <th>facility_name</th>\n",
       "        <th>violation_desc</th>\n",
       "    </tr>\n",
       "    <tr>\n",
       "        <td>7 ELEVEN 705</td>\n",
       "        <td>Improper sanitizing</td>\n",
       "    </tr>\n",
       "    <tr>\n",
       "        <td>7 ELEVEN 708</td>\n",
       "        <td>Improper sanitizing</td>\n",
       "    </tr>\n",
       "    <tr>\n",
       "        <td>7 ELEVEN 710</td>\n",
       "        <td>Improper sanitizing</td>\n",
       "    </tr>\n",
       "    <tr>\n",
       "        <td>7 ELEVEN 712</td>\n",
       "        <td>Improper sanitizing</td>\n",
       "    </tr>\n",
       "</table>"
      ],
      "text/plain": [
       "[('7 ELEVEN 705', 'Improper sanitizing'),\n",
       " ('7 ELEVEN 708', 'Improper sanitizing'),\n",
       " ('7 ELEVEN 710', 'Improper sanitizing'),\n",
       " ('7 ELEVEN 712', 'Improper sanitizing')]"
      ]
     },
     "execution_count": 20,
     "metadata": {},
     "output_type": "execute_result"
    }
   ],
   "source": [
    "%%sql\n",
    "SELECT DISTINCT facility_name,violation_desc\n",
    "FROM inspection\n",
    "WHERE facility_name LIKE '7 ELEVEN%' AND violation_desc = 'Improper sanitizing'\n",
    "ORDER BY facility_name;"
   ]
  },
  {
   "cell_type": "markdown",
   "metadata": {},
   "source": [
    "What is the earliest inspection date?"
   ]
  },
  {
   "cell_type": "code",
   "execution_count": 21,
   "metadata": {
    "collapsed": false
   },
   "outputs": [
    {
     "name": "stdout",
     "output_type": "stream",
     "text": [
      "1 rows affected.\n"
     ]
    },
    {
     "data": {
      "text/html": [
       "<table>\n",
       "    <tr>\n",
       "        <th>min</th>\n",
       "    </tr>\n",
       "    <tr>\n",
       "        <td>2009-07-01 00:00:00</td>\n",
       "    </tr>\n",
       "</table>"
      ],
      "text/plain": [
       "[(datetime.datetime(2009, 7, 1, 0, 0),)]"
      ]
     },
     "execution_count": 21,
     "metadata": {},
     "output_type": "execute_result"
    }
   ],
   "source": [
    "%%sql\n",
    "SELECT MIN(inspection_date)\n",
    "FROM inspection;"
   ]
  },
  {
   "cell_type": "markdown",
   "metadata": {},
   "source": [
    "What is the latest inspection date?"
   ]
  },
  {
   "cell_type": "code",
   "execution_count": 22,
   "metadata": {
    "collapsed": false
   },
   "outputs": [
    {
     "name": "stdout",
     "output_type": "stream",
     "text": [
      "1 rows affected.\n"
     ]
    },
    {
     "data": {
      "text/html": [
       "<table>\n",
       "    <tr>\n",
       "        <th>max</th>\n",
       "    </tr>\n",
       "    <tr>\n",
       "        <td>2010-06-30 00:00:00</td>\n",
       "    </tr>\n",
       "</table>"
      ],
      "text/plain": [
       "[(datetime.datetime(2010, 6, 30, 0, 0),)]"
      ]
     },
     "execution_count": 22,
     "metadata": {},
     "output_type": "execute_result"
    }
   ],
   "source": [
    "%%sql\n",
    "SELECT MAX(inspection_date)\n",
    "FROM inspection;"
   ]
  },
  {
   "cell_type": "code",
   "execution_count": null,
   "metadata": {
    "collapsed": false
   },
   "outputs": [],
   "source": [
    "%%sql\n",
    "SELECT TO_CHAR(inspection_date, 'YYYY-MM-DD') AS day_of_year, \n",
    "    TO_CHAR(inspection_date, 'YYYY') AS year,\n",
    "    TO_CHAR(inspection_date, 'MM') AS month,\n",
    "    TO_CHAR(inspection_date, 'DD') AS day,\n",
    "    TO_CHAR(inspection_date, 'Day') AS day_of_week_str,\n",
    "    TO_CHAR(inspection_date, 'D') AS day_of_week,\n",
    "    CASE WHEN CAST(TO_CHAR(inspection_date, 'D') AS INTEGER) >= 6 \n",
    "        THEN 1 \n",
    "        ELSE 0\n",
    "    END AS is_weekend,\n",
    "    CASE WHEN CAST(TO_CHAR(inspection_date, 'D') AS INTEGER) < 6 \n",
    "        THEN 1 \n",
    "        ELSE 0\n",
    "    END AS is_weekday,\n",
    "    TO_CHAR(inspection_date, 'HH24') AS hour_24,\n",
    "    TO_CHAR(inspection_date, 'Q') AS quarter\n",
    "FROM inspection;"
   ]
  },
  {
   "cell_type": "code",
   "execution_count": 24,
   "metadata": {
    "collapsed": false
   },
   "outputs": [
    {
     "name": "stdout",
     "output_type": "stream",
     "text": [
      "Done.\n",
      "Done.\n"
     ]
    },
    {
     "data": {
      "text/plain": [
       "[]"
      ]
     },
     "execution_count": 24,
     "metadata": {},
     "output_type": "execute_result"
    }
   ],
   "source": [
    "%%sql\n",
    "DROP TABLE IF EXISTS days;\n",
    "CREATE TABLE days (\n",
    "    id SERIAL,\n",
    "    inspection_date TIMESTAMP,\n",
    "    day_of_year CHAR(10),\n",
    "    year INTEGER,\n",
    "    month INTEGER,\n",
    "    day INTEGER,\n",
    "    day_of_week_str CHAR(9),\n",
    "    day_of_week INTEGER,\n",
    "    is_weekend BOOLEAN,\n",
    "    is_weekday BOOLEAN,\n",
    "    hour_24 INTEGER,\n",
    "    quarter INTEGER\n",
    ");"
   ]
  },
  {
   "cell_type": "code",
   "execution_count": 25,
   "metadata": {
    "collapsed": false
   },
   "outputs": [
    {
     "name": "stdout",
     "output_type": "stream",
     "text": [
      "17556 rows affected.\n"
     ]
    },
    {
     "data": {
      "text/plain": [
       "[]"
      ]
     },
     "execution_count": 25,
     "metadata": {},
     "output_type": "execute_result"
    }
   ],
   "source": [
    "%%sql\n",
    "INSERT INTO days (inspection_date,day_of_year, year, month, day, day_of_week_str, day_of_week,\n",
    "                  is_weekend, is_weekday, hour_24, quarter)\n",
    "SELECT inspection_date,\n",
    "    TO_CHAR(inspection_date, 'YYYY-MM-DD') AS day_of_year, \n",
    "    CAST(TO_CHAR(inspection_date, 'YYYY') AS INTEGER) AS year,\n",
    "    CAST(TO_CHAR(inspection_date, 'MM') AS INTEGER) AS month,\n",
    "    CAST(TO_CHAR(inspection_date, 'DD') AS INTEGER) AS day,\n",
    "    TO_CHAR(inspection_date, 'Day') AS day_of_week_str,\n",
    "    CAST(TO_CHAR(inspection_date, 'D') AS INTEGER) AS day_of_week,\n",
    "    CASE WHEN CAST(TO_CHAR(inspection_date, 'D') AS INTEGER) IN (1, 7) \n",
    "        THEN TRUE\n",
    "        ELSE FALSE\n",
    "    END AS is_weekend,\n",
    "    CASE WHEN CAST(TO_CHAR(inspection_date, 'D') AS INTEGER) NOT IN (1, 7) \n",
    "        THEN TRUE\n",
    "        ELSE FALSE\n",
    "    END AS is_weekday,\n",
    "    CAST(TO_CHAR(inspection_date, 'HH24') AS INTEGER) AS hour_24,\n",
    "    CAST(TO_CHAR(inspection_date, 'Q') AS INTEGER) AS quarter\n",
    "FROM inspection;"
   ]
  },
  {
   "cell_type": "code",
   "execution_count": 26,
   "metadata": {
    "collapsed": false
   },
   "outputs": [
    {
     "name": "stdout",
     "output_type": "stream",
     "text": [
      "5 rows affected.\n"
     ]
    },
    {
     "data": {
      "text/html": [
       "<table>\n",
       "    <tr>\n",
       "        <th>id</th>\n",
       "        <th>inspection_date</th>\n",
       "        <th>day_of_year</th>\n",
       "        <th>year</th>\n",
       "        <th>month</th>\n",
       "        <th>day</th>\n",
       "        <th>day_of_week_str</th>\n",
       "        <th>day_of_week</th>\n",
       "        <th>is_weekend</th>\n",
       "        <th>is_weekday</th>\n",
       "        <th>hour_24</th>\n",
       "        <th>quarter</th>\n",
       "    </tr>\n",
       "    <tr>\n",
       "        <td>1</td>\n",
       "        <td>2009-12-23 00:00:00</td>\n",
       "        <td>2009-12-23</td>\n",
       "        <td>2009</td>\n",
       "        <td>12</td>\n",
       "        <td>23</td>\n",
       "        <td>Wednesday</td>\n",
       "        <td>4</td>\n",
       "        <td>False</td>\n",
       "        <td>True</td>\n",
       "        <td>0</td>\n",
       "        <td>4</td>\n",
       "    </tr>\n",
       "    <tr>\n",
       "        <td>2</td>\n",
       "        <td>2009-10-23 00:00:00</td>\n",
       "        <td>2009-10-23</td>\n",
       "        <td>2009</td>\n",
       "        <td>10</td>\n",
       "        <td>23</td>\n",
       "        <td>Friday   </td>\n",
       "        <td>6</td>\n",
       "        <td>False</td>\n",
       "        <td>True</td>\n",
       "        <td>0</td>\n",
       "        <td>4</td>\n",
       "    </tr>\n",
       "    <tr>\n",
       "        <td>3</td>\n",
       "        <td>2009-07-23 00:00:00</td>\n",
       "        <td>2009-07-23</td>\n",
       "        <td>2009</td>\n",
       "        <td>7</td>\n",
       "        <td>23</td>\n",
       "        <td>Thursday </td>\n",
       "        <td>5</td>\n",
       "        <td>False</td>\n",
       "        <td>True</td>\n",
       "        <td>0</td>\n",
       "        <td>3</td>\n",
       "    </tr>\n",
       "    <tr>\n",
       "        <td>4</td>\n",
       "        <td>2010-01-07 00:00:00</td>\n",
       "        <td>2010-01-07</td>\n",
       "        <td>2010</td>\n",
       "        <td>1</td>\n",
       "        <td>7</td>\n",
       "        <td>Thursday </td>\n",
       "        <td>5</td>\n",
       "        <td>False</td>\n",
       "        <td>True</td>\n",
       "        <td>0</td>\n",
       "        <td>1</td>\n",
       "    </tr>\n",
       "    <tr>\n",
       "        <td>5</td>\n",
       "        <td>2009-09-09 00:00:00</td>\n",
       "        <td>2009-09-09</td>\n",
       "        <td>2009</td>\n",
       "        <td>9</td>\n",
       "        <td>9</td>\n",
       "        <td>Wednesday</td>\n",
       "        <td>4</td>\n",
       "        <td>False</td>\n",
       "        <td>True</td>\n",
       "        <td>0</td>\n",
       "        <td>3</td>\n",
       "    </tr>\n",
       "</table>"
      ],
      "text/plain": [
       "[(1, datetime.datetime(2009, 12, 23, 0, 0), '2009-12-23', 2009, 12, 23, 'Wednesday', 4, False, True, 0, 4),\n",
       " (2, datetime.datetime(2009, 10, 23, 0, 0), '2009-10-23', 2009, 10, 23, 'Friday   ', 6, False, True, 0, 4),\n",
       " (3, datetime.datetime(2009, 7, 23, 0, 0), '2009-07-23', 2009, 7, 23, 'Thursday ', 5, False, True, 0, 3),\n",
       " (4, datetime.datetime(2010, 1, 7, 0, 0), '2010-01-07', 2010, 1, 7, 'Thursday ', 5, False, True, 0, 1),\n",
       " (5, datetime.datetime(2009, 9, 9, 0, 0), '2009-09-09', 2009, 9, 9, 'Wednesday', 4, False, True, 0, 3)]"
      ]
     },
     "execution_count": 26,
     "metadata": {},
     "output_type": "execute_result"
    }
   ],
   "source": [
    "%%sql\n",
    "SELECT *\n",
    "FROM days\n",
    "LIMIT 5;"
   ]
  },
  {
   "cell_type": "markdown",
   "metadata": {},
   "source": [
    "How many of the inspections happened on Wednesday?"
   ]
  },
  {
   "cell_type": "code",
   "execution_count": 24,
   "metadata": {
    "collapsed": false
   },
   "outputs": [
    {
     "name": "stdout",
     "output_type": "stream",
     "text": [
      "1 rows affected.\n"
     ]
    },
    {
     "data": {
      "text/html": [
       "<table>\n",
       "    <tr>\n",
       "        <th>count</th>\n",
       "    </tr>\n",
       "    <tr>\n",
       "        <td>1782</td>\n",
       "    </tr>\n",
       "</table>"
      ],
      "text/plain": [
       "[(1782,)]"
      ]
     },
     "execution_count": 24,
     "metadata": {},
     "output_type": "execute_result"
    }
   ],
   "source": [
    "%%sql\n",
    "SELECT COUNT(*)\n",
    "FROM(\n",
    "    SELECT DISTINCT serial_num,day_of_week_str\n",
    "    FROM inspection\n",
    "    INNER JOIN days\n",
    "    ON inspection.inspection_date=days.inspection_date\n",
    "    ORDER BY serial_num)AS d\n",
    "WHERE day_of_week_str='Wednesday';"
   ]
  },
  {
   "cell_type": "markdown",
   "metadata": {},
   "source": [
    "What are the types of inspection action description? There are how many of them in each type? "
   ]
  },
  {
   "cell_type": "code",
   "execution_count": 38,
   "metadata": {
    "collapsed": false
   },
   "outputs": [],
   "source": [
    "%matplotlib inline"
   ]
  },
  {
   "cell_type": "code",
   "execution_count": 39,
   "metadata": {
    "collapsed": false
   },
   "outputs": [
    {
     "name": "stdout",
     "output_type": "stream",
     "text": [
      "8 rows affected.\n"
     ]
    },
    {
     "data": {
      "text/html": [
       "<table>\n",
       "    <tr>\n",
       "        <th>action_desc</th>\n",
       "    </tr>\n",
       "    <tr>\n",
       "        <td>UNSATISFACTORY</td>\n",
       "    </tr>\n",
       "    <tr>\n",
       "        <td>NON-GRADED</td>\n",
       "    </tr>\n",
       "    <tr>\n",
       "        <td>ANNUAL STICKER NOT ISSUED</td>\n",
       "    </tr>\n",
       "    <tr>\n",
       "        <td>FACILITY CLOSED AT TIME OF SERVICE</td>\n",
       "    </tr>\n",
       "    <tr>\n",
       "        <td>FOOD PERMIT SUSPENSION</td>\n",
       "    </tr>\n",
       "    <tr>\n",
       "        <td>NO PERMIT APPLICATION ISSUED</td>\n",
       "    </tr>\n",
       "    <tr>\n",
       "        <td>APPROVED</td>\n",
       "    </tr>\n",
       "    <tr>\n",
       "        <td>ANNUAL STICKER ISSUED</td>\n",
       "    </tr>\n",
       "</table>"
      ],
      "text/plain": [
       "[('UNSATISFACTORY',),\n",
       " ('NON-GRADED',),\n",
       " ('ANNUAL STICKER NOT ISSUED',),\n",
       " ('FACILITY CLOSED AT TIME OF SERVICE',),\n",
       " ('FOOD PERMIT SUSPENSION',),\n",
       " ('NO PERMIT APPLICATION ISSUED',),\n",
       " ('APPROVED',),\n",
       " ('ANNUAL STICKER ISSUED',)]"
      ]
     },
     "execution_count": 39,
     "metadata": {},
     "output_type": "execute_result"
    }
   ],
   "source": [
    "%%sql\n",
    "SELECT DISTINCT action_desc\n",
    "FROM inspection;"
   ]
  },
  {
   "cell_type": "code",
   "execution_count": 40,
   "metadata": {
    "collapsed": false
   },
   "outputs": [
    {
     "name": "stdout",
     "output_type": "stream",
     "text": [
      "8 rows affected.\n"
     ]
    },
    {
     "data": {
      "text/html": [
       "<table>\n",
       "    <tr>\n",
       "        <th>action_desc</th>\n",
       "        <th>count</th>\n",
       "    </tr>\n",
       "    <tr>\n",
       "        <td>ANNUAL STICKER ISSUED</td>\n",
       "        <td>186</td>\n",
       "    </tr>\n",
       "    <tr>\n",
       "        <td>ANNUAL STICKER NOT ISSUED</td>\n",
       "        <td>10</td>\n",
       "    </tr>\n",
       "    <tr>\n",
       "        <td>APPROVED</td>\n",
       "        <td>6019</td>\n",
       "    </tr>\n",
       "    <tr>\n",
       "        <td>FACILITY CLOSED AT TIME OF SERVICE</td>\n",
       "        <td>1</td>\n",
       "    </tr>\n",
       "    <tr>\n",
       "        <td>FOOD PERMIT SUSPENSION</td>\n",
       "        <td>1</td>\n",
       "    </tr>\n",
       "    <tr>\n",
       "        <td>NO PERMIT APPLICATION ISSUED</td>\n",
       "        <td>1</td>\n",
       "    </tr>\n",
       "    <tr>\n",
       "        <td>NON-GRADED</td>\n",
       "        <td>2781</td>\n",
       "    </tr>\n",
       "    <tr>\n",
       "        <td>UNSATISFACTORY</td>\n",
       "        <td>47</td>\n",
       "    </tr>\n",
       "</table>"
      ],
      "text/plain": [
       "[('ANNUAL STICKER ISSUED', 186),\n",
       " ('ANNUAL STICKER NOT ISSUED', 10),\n",
       " ('APPROVED', 6019),\n",
       " ('FACILITY CLOSED AT TIME OF SERVICE', 1),\n",
       " ('FOOD PERMIT SUSPENSION', 1),\n",
       " ('NO PERMIT APPLICATION ISSUED', 1),\n",
       " ('NON-GRADED', 2781),\n",
       " ('UNSATISFACTORY', 47)]"
      ]
     },
     "execution_count": 40,
     "metadata": {},
     "output_type": "execute_result"
    }
   ],
   "source": [
    "%%sql\n",
    "SELECT action_desc,COUNT(action_desc)\n",
    "FROM(\n",
    "    SELECT DISTINCT serial_num,action_desc\n",
    "    FROM inspection)AS d\n",
    "GROUP BY action_desc\n",
    "ORDER BY action_desc;"
   ]
  },
  {
   "cell_type": "code",
   "execution_count": 41,
   "metadata": {
    "collapsed": false
   },
   "outputs": [
    {
     "data": {
      "text/plain": [
       "<Container object of 8 artists>"
      ]
     },
     "execution_count": 41,
     "metadata": {},
     "output_type": "execute_result"
    },
    {
     "data": {
      "image/png": "[encoded data removed]",
      "text/plain": [
       "<matplotlib.figure.Figure at 0x7fe166b7f518>"
      ]
     },
     "metadata": {},
     "output_type": "display_data"
    }
   ],
   "source": [
    "%matplotlib inline\n",
    "result = _\n",
    "result.bar()"
   ]
  },
  {
   "cell_type": "markdown",
   "metadata": {},
   "source": [
    "From the findings above, I would say that there are 8 types of action description and the top 3 action description are APPROVED,NON-GRADED and ANNUAL STICKER ISSUED."
   ]
  },
  {
   "cell_type": "markdown",
   "metadata": {},
   "source": [
    "## Bonus (10 points)\n",
    "\n",
    "We have seen a few simple techniques for normalizing data in class.  Choose a column or set of columns that might be redundant and normalize them out to another table:\n",
    "\n",
    "* Identify the columns to normalize in the source data table\n",
    "* Create one or more new tables to hold the normalized records\n",
    "* Extract data into the new tables\n",
    "* Re-insert the new foreign key references from the new table into the source table"
   ]
  },
  {
   "cell_type": "markdown",
   "metadata": {},
   "source": [
    "I noticed that food_inspection table may contain redundant information and there are three unique identifiers---facility_key,owner_key and serial_num.Therefore, I let these three identifiers be the primary keys and create three new tables containing three different groups of information. The columns which need to be normalized are shown below."
   ]
  },
  {
   "cell_type": "code",
   "execution_count": 49,
   "metadata": {
    "collapsed": false
   },
   "outputs": [
    {
     "name": "stdout",
     "output_type": "stream",
     "text": [
      "Done.\n",
      "Done.\n",
      "Done.\n",
      "Done.\n",
      "Done.\n",
      "Done.\n"
     ]
    },
    {
     "data": {
      "text/plain": [
       "[]"
      ]
     },
     "execution_count": 49,
     "metadata": {},
     "output_type": "execute_result"
    }
   ],
   "source": [
    "%%sql\n",
    "DROP TABLE IF EXISTS facility;\n",
    "CREATE TABLE facility ( \n",
    "    facility_key CHAR(20),\n",
    "    facility_name VARCHAR(202),\n",
    "    street_number CHAR(16),\n",
    "    street_name VARCHAR(52),\n",
    "    street_type CHAR(10),\n",
    "    phone CHAR(42),\n",
    "    CONSTRAINT facility_facility_key_pk PRIMARY KEY (facility_key));\n",
    "\n",
    "DROP TABLE IF EXISTS owner;\n",
    "CREATE TABLE owner ( \n",
    "    owner_key CHAR(26),\n",
    "    owner_name VARCHAR(202),\n",
    "    CONSTRAINT owner_owner_key_pk PRIMARY KEY (owner_key));\n",
    "\n",
    "DROP TABLE IF EXISTS inspection;\n",
    "CREATE TABLE inspection ( \n",
    "    serial_num CHAR(20),\n",
    "    inspection_date TIMESTAMP,\n",
    "    inspection_desc VARCHAR(102),\n",
    "    action_desc VARCHAR(102),\n",
    "    result_desc VARCHAR(102),\n",
    "    CONSTRAINT inspection_serial_num_pk PRIMARY KEY (serial_num));"
   ]
  },
  {
   "cell_type": "code",
   "execution_count": 50,
   "metadata": {
    "collapsed": false
   },
   "outputs": [
    {
     "name": "stdout",
     "output_type": "stream",
     "text": [
      "2835 rows affected.\n",
      "1892 rows affected.\n",
      "9046 rows affected.\n"
     ]
    },
    {
     "data": {
      "text/plain": [
       "[]"
      ]
     },
     "execution_count": 50,
     "metadata": {},
     "output_type": "execute_result"
    }
   ],
   "source": [
    "%%sql\n",
    "INSERT INTO facility(facility_key,facility_name,street_number,street_name,street_type,phone)\n",
    "SELECT DISTINCT facility_key,facility_name,street_number,street_name,street_type,phone\n",
    "FROM food_inspection;\n",
    "\n",
    "INSERT INTO owner(owner_key,owner_name)\n",
    "SELECT DISTINCT owner_key,owner_name\n",
    "FROM food_inspection;\n",
    "\n",
    "INSERT INTO inspection(serial_num,inspection_date,inspection_desc,action_desc,result_desc)\n",
    "SELECT DISTINCT serial_num,inspection_date,inspection_desc,action_desc,result_desc\n",
    "FROM food_inspection;"
   ]
  },
  {
   "cell_type": "code",
   "execution_count": null,
   "metadata": {
    "collapsed": true
   },
   "outputs": [],
   "source": [
    "%%sql\n",
    "ALTER TABLE food_inspection\n",
    "ADD FOREIGN KEY (facility_key) REFERENCES facility (facility_key);\n",
    "ALTER TABLE food_inspection\n",
    "ADD FOREIGN KEY (owner_key) REFERENCES owner (owner_key);\n",
    "ALTER TABLE food_inspection\n",
    "ADD FOREIGN KEY (serial_num) REFERENCES inspection (serial_num);"
   ]
  }
 ],
 "metadata": {
  "anaconda-cloud": {},
  "kernelspec": {
   "display_name": "Python 3",
   "language": "python",
   "name": "python3"
  },
  "language_info": {
   "codemirror_mode": {
    "name": "ipython",
    "version": 3
   },
   "file_extension": ".py",
   "mimetype": "text/x-python",
   "name": "python",
   "nbconvert_exporter": "python",
   "pygments_lexer": "ipython3",
   "version": "3.5.2"
  }
 },
 "nbformat": 4,
 "nbformat_minor": 1
}
