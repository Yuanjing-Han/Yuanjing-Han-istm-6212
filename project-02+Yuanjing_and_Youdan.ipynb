{
 "cells": [
  {
   "cell_type": "markdown",
   "metadata": {},
   "source": [
    "# Project 02 - Due Friday, November 11 at 12pm\n",
    "\n",
    "*Objectives*: Gain experience loading a transactional dataset into a relational database model you define yourself and using SQL to explore its contents. Transform the data into a star schema, documenting the schema visually, and explore the transformed data analytically by writing and executing a number of SQL queries using common syntax and functions and describing your findings.  Gain practice working on these tasks with a partner.\n",
    "\n",
    "*Grading criteria*: The tasks should all be completed, and questions should all be answered with SQL queries, diagrams, and charts in the space provided, unless a text answer is requested.  The notebook itself should be completely reproducible at datanotebook.org, from start to finish: another person should be able to use the same code to obtain the same results as yours.  Note that you will receive no more than partial credit if you do not add text/markdown cells explaining your thinking at each major step in each problem.\n",
    "\n",
    "*Attestation*: **Work in pairs**.  At the end of your submitted notebook, identify the work each partner performed and attest that each contributed substantially to the work.\n",
    "\n",
    "*Deadline*: Friday, November 11, 12pm.  One member of each pair must submit your notebook to Blackboard; you should not both submit it separately.  You may each push a copy to your own GitHub repository.\n",
    "\n",
    "\n",
    "## Setup - select and obtain data\n",
    "\n",
    "The US City Open Data Census has a variety of [transactional data from all over the country](http://us-city.census.okfn.org/).  Select one topic and one city from this Census, download the data, and explain your reason for this choice before proceeding.  Provide a link to the web page for the data set you've chosen.\n",
    "\n",
    "I strongly encourage you to select a dataset from among the following topics:  Crime, Property Assessment, Campaign Finance Contributions, Service Requests (311), and Web Analytics.\n",
    "\n",
    "By *transactional* data I mean records at the grain of one event per business process.  In the case of Service Requests (311), for example, that would require data at the level of each individual report of a service request.  If this isn't clear, think about the bike trip data - each individual ride was included - and look for data at that level of event/process specificity.  Avoid data like the Connecticut boating data, which was summarized by year, not individual transactions.\n",
    "\n",
    "Please aim for a dataset of at least 10,000 individual records, but less than 250,000 records.  A little more or a little less is okay, but try to stay within these limits."
   ]
  },
  {
   "cell_type": "markdown",
   "metadata": {},
   "source": [
    "#### We chose to use Austin Service Requests (311) data. Since the raw data set contains 370000+ records are are beyong the limits, we tried to use filter to limit the number of records at the source----since a majority of the service requests are received by phone and happened in Travis(Austin),we only want to explore service requests received by phone, belonging to transportation and pubilc works department in TRAVIS Austin.(https://data.austintexas.gov/Government/311-Unified-Data/i26j-ai4z)"
   ]
  },
  {
   "cell_type": "code",
   "execution_count": 1,
   "metadata": {
    "collapsed": false
   },
   "outputs": [
    {
     "name": "stdout",
     "output_type": "stream",
     "text": [
      "--2016-11-11 15:35:35--  https://github.com/Yuanjing-Han/Yuanjing-Han-istm-6212/raw/master/Austin_request_data.zip\n",
      "Resolving github.com (github.com)... 192.30.253.112, 192.30.253.113\n",
      "Connecting to github.com (github.com)|192.30.253.112|:443... connected.\n",
      "HTTP request sent, awaiting response... 302 Found\n",
      "Location: https://raw.githubusercontent.com/Yuanjing-Han/Yuanjing-Han-istm-6212/master/Austin_request_data.zip [following]\n",
      "--2016-11-11 15:35:35--  https://raw.githubusercontent.com/Yuanjing-Han/Yuanjing-Han-istm-6212/master/Austin_request_data.zip\n",
      "Resolving raw.githubusercontent.com (raw.githubusercontent.com)... 151.101.32.133\n",
      "Connecting to raw.githubusercontent.com (raw.githubusercontent.com)|151.101.32.133|:443... connected.\n",
      "HTTP request sent, awaiting response... 200 OK\n",
      "Length: 6369721 (6.1M) [application/octet-stream]\n",
      "Saving to: ‘Austin_request_data.zip’\n",
      "\n",
      "Austin_request_data 100%[=====================>]   6.07M  --.-KB/s   in 0.1s   \n",
      "\n",
      "2016-11-11 15:35:35 (43.3 MB/s) - ‘Austin_request_data.zip’ saved [6369721/6369721]\n",
      "\n"
     ]
    }
   ],
   "source": [
    "!wget https://github.com/Yuanjing-Han/Yuanjing-Han-istm-6212/raw/master/Austin_request_data.zip"
   ]
  },
  {
   "cell_type": "code",
   "execution_count": 2,
   "metadata": {
    "collapsed": false
   },
   "outputs": [
    {
     "name": "stdout",
     "output_type": "stream",
     "text": [
      "Archive:  Austin_request_data.zip\n",
      "  inflating: 311_Unified_Data.csv    \n"
     ]
    }
   ],
   "source": [
    "!unzip Austin_request_data.zip"
   ]
  },
  {
   "cell_type": "code",
   "execution_count": 3,
   "metadata": {
    "collapsed": true
   },
   "outputs": [],
   "source": [
    "!mv 311_Unified_Data.csv servicerequest.csv"
   ]
  },
  {
   "cell_type": "code",
   "execution_count": 4,
   "metadata": {
    "collapsed": false
   },
   "outputs": [
    {
     "name": "stdout",
     "output_type": "stream",
     "text": [
      "  1: Service Request (SR) Number\r\n",
      "  2: SR Type Code\r\n",
      "  3: SR Description\r\n",
      "  4: Owning Department\r\n",
      "  5: Method Received\r\n",
      "  6: SR Status\r\n",
      "  7: Status Change Date\r\n",
      "  8: Created Date\r\n",
      "  9: Last Update Date\r\n",
      " 10: Close Date\r\n",
      " 11: SR Location\r\n",
      " 12: Street Number\r\n",
      " 13: Street Name\r\n",
      " 14: City\r\n",
      " 15: Zip Code\r\n",
      " 16: County\r\n",
      " 17: State Plane X Coordinate\r\n",
      " 18: State Plane Y Coordinate\r\n",
      " 19: Latitude Coordinate\r\n",
      " 20: Longitude Coordinate\r\n",
      " 21: (Latitude.Longitude)\r\n",
      " 22: Council District\r\n",
      " 23: Map Page\r\n",
      " 24: Map Tile\r\n"
     ]
    }
   ],
   "source": [
    "!csvcut -n servicerequest.csv"
   ]
  },
  {
   "cell_type": "code",
   "execution_count": 5,
   "metadata": {
    "collapsed": false
   },
   "outputs": [
    {
     "name": "stdout",
     "output_type": "stream",
     "text": [
      "84579 servicerequest.csv\r\n"
     ]
    }
   ],
   "source": [
    "!wc -l servicerequest.csv"
   ]
  },
  {
   "cell_type": "code",
   "execution_count": 6,
   "metadata": {
    "collapsed": false
   },
   "outputs": [
    {
     "name": "stdout",
     "output_type": "stream",
     "text": [
      "|------------------------------+--------------+----------------+-------------------+-----------------+-----------+--------------------+--------------+------------------+------------+-------------+---------------+-------------+------+----------+--------+--------------------------+--------------------------+---------------------+----------------------+----------------------+------------------+----------+-----------|\r\n",
      "|  Service Request (SR) Number | SR Type Code | SR Description | Owning Department | Method Received | SR Status | Status Change Date | Created Date | Last Update Date | Close Date | SR Location | Street Number | Street Name | City | Zip Code | County | State Plane X Coordinate | State Plane Y Coordinate | Latitude Coordinate | Longitude Coordinate | (Latitude.Longitude) | Council District | Map Page | Map Tile  |\r\n",
      "|------------------------------+--------------+----------------+-------------------+-----------------+-----------+--------------------+--------------+------------------+------------+-------------+---------------+-------------+------+----------+--------+--------------------------+--------------------------+---------------------+----------------------+----------------------+------------------+----------+-----------|\r\n"
     ]
    }
   ],
   "source": [
    "!head -1 servicerequest.csv | csvlook"
   ]
  },
  {
   "cell_type": "code",
   "execution_count": 7,
   "metadata": {
    "collapsed": false
   },
   "outputs": [
    {
     "name": "stdout",
     "output_type": "stream",
     "text": [
      "[sudo] password for jovyan: Restarting PostgreSQL 9.5 database server: main.\n"
     ]
    }
   ],
   "source": [
    "!echo 'redspot' | sudo -S service postgresql restart"
   ]
  },
  {
   "cell_type": "code",
   "execution_count": 8,
   "metadata": {
    "collapsed": false
   },
   "outputs": [],
   "source": [
    "!createdb -U dbuser servicerequest311"
   ]
  },
  {
   "cell_type": "code",
   "execution_count": 9,
   "metadata": {
    "collapsed": false
   },
   "outputs": [
    {
     "name": "stderr",
     "output_type": "stream",
     "text": [
      "/opt/conda/lib/python3.5/site-packages/IPython/config.py:13: ShimWarning: The `IPython.config` package has been deprecated. You should import from traitlets.config instead.\n",
      "  \"You should import from traitlets.config instead.\", ShimWarning)\n",
      "/opt/conda/lib/python3.5/site-packages/IPython/utils/traitlets.py:5: UserWarning: IPython.utils.traitlets has moved to a top-level traitlets package.\n",
      "  warn(\"IPython.utils.traitlets has moved to a top-level traitlets package.\")\n"
     ]
    }
   ],
   "source": [
    "%load_ext sql"
   ]
  },
  {
   "cell_type": "code",
   "execution_count": 10,
   "metadata": {
    "collapsed": false
   },
   "outputs": [
    {
     "data": {
      "text/plain": [
       "'Connected: dbuser@servicerequest311'"
      ]
     },
     "execution_count": 10,
     "metadata": {},
     "output_type": "execute_result"
    }
   ],
   "source": [
    "%sql postgresql://dbuser@localhost:5432/servicerequest311"
   ]
  },
  {
   "cell_type": "markdown",
   "metadata": {},
   "source": [
    "## Problem 1 - examine the data (20 points)\n",
    "\n",
    "Use `csvstat`, `pandas`, or other tools as you see fit and observe the contents of your dataset.  Review important points from any metadata provided.  Describe what you see:  What do the columns mean?  Are there null values?  Which columns interest you the most?  Which columns present some opportunities, challenges, or questions you would like to ask?"
   ]
  },
  {
   "cell_type": "markdown",
   "metadata": {},
   "source": [
    "# Variables explaining\n",
    "* Service Request (SR) Number: The service request tracking number.\n",
    "* SR Type Code: The logogram of each type of service request.\n",
    "* SR Description: Service request type.\n",
    "* Owning Department: Owning department of SR type.\n",
    "* Method Received: Contact method SR was received from. Mass entry requests are submitted by dept. in groups after work is         completed.\n",
    "* SR Status: SR status. Duplicate statuses indicate that issue had previously been reported recently.\n",
    "* Status Change Date: Date of last SR status change. Status changes occur when SR moves from one status to another. I.E. new to   open, open to closed.\n",
    "* Created Date: Date SR was created.\n",
    "* Last Update Date: Date SR was updated. Last date SR received updates. Updates may include creation, status changes, or changes   to data in SR.\n",
    "* Close Date: Date SR was closed, with null value.\n",
    "* SR Location: Service location of SR.\n",
    "* Street Number: Parsed location information. Street number. with null value.\n",
    "* Street Name: Parsed location information, with null value.\n",
    "* City: Parsed location information---AUSTIN.\n",
    "* Zip Code：Parsed location information, with null value.\n",
    "* County：Parsed location information---TRAVIS.\n",
    "* State Plane X Coordinate：State plane X coordinate, with null value.\n",
    "* State Plane Y Coordinate：State plane Y coordinate, with null value.\n",
    "* Latitude Coordinate: SR location latitude coordinate, with null value.\n",
    "* Longitude Coordinate: SR location latitude and longitude coordinates,with null value.\n",
    "* (Latitude.Longitude):SR location latitude and longitude coordinates, with null value.\n",
    "* Council District: Council district corresponding to SR location. Locations outside of the City of Austin jurisdiction will not   have a council district, with null value.\n",
    "* Map Page: SR location corresponding map page, with null value.\n",
    "* Map Title: SR location corresponding map tile, with null value.\n",
    "\n",
    "\n",
    "Since this database is related with service requests, we are really interested how many service requests actually happened in the certain time period, in the certain region and of a certain type. Thus,the following columns present some opportunities,challenges or questions that I want to ask: Service Request (SR) Number, SR Type Code, SR Description,Created Date,street address,Zip Code,Council District.\n",
    "\n"
   ]
  },
  {
   "cell_type": "markdown",
   "metadata": {},
   "source": [
    "#### The question we wanna ask is that in which part of Travis does service requests happen the most actively? I found that in the east end of county, the plots are denser. Thus we think that in east end of Travis,service requests happen more actively."
   ]
  },
  {
   "cell_type": "code",
   "execution_count": 11,
   "metadata": {
    "collapsed": false
   },
   "outputs": [],
   "source": [
    "import pandas as pd\n",
    "df_request = pd.read_csv('servicerequest.csv',parse_dates=['Status Change Date','Created Date','Last Update Date','Close Date'],error_bad_lines=False)"
   ]
  },
  {
   "cell_type": "code",
   "execution_count": 12,
   "metadata": {
    "collapsed": false
   },
   "outputs": [
    {
     "data": {
      "text/html": [
       "<div>\n",
       "<table border=\"1\" class=\"dataframe\">\n",
       "  <thead>\n",
       "    <tr style=\"text-align: right;\">\n",
       "      <th></th>\n",
       "      <th>Service Request (SR) Number</th>\n",
       "      <th>SR Type Code</th>\n",
       "      <th>SR Description</th>\n",
       "      <th>Owning Department</th>\n",
       "      <th>Method Received</th>\n",
       "      <th>SR Status</th>\n",
       "      <th>Status Change Date</th>\n",
       "      <th>Created Date</th>\n",
       "      <th>Last Update Date</th>\n",
       "      <th>Close Date</th>\n",
       "      <th>...</th>\n",
       "      <th>Zip Code</th>\n",
       "      <th>County</th>\n",
       "      <th>State Plane X Coordinate</th>\n",
       "      <th>State Plane Y Coordinate</th>\n",
       "      <th>Latitude Coordinate</th>\n",
       "      <th>Longitude Coordinate</th>\n",
       "      <th>(Latitude.Longitude)</th>\n",
       "      <th>Council District</th>\n",
       "      <th>Map Page</th>\n",
       "      <th>Map Tile</th>\n",
       "    </tr>\n",
       "  </thead>\n",
       "  <tbody>\n",
       "    <tr>\n",
       "      <th>0</th>\n",
       "      <td>16-00107769</td>\n",
       "      <td>TRASIGMA</td>\n",
       "      <td>Traffic Signal - Maintenance</td>\n",
       "      <td>Transportation</td>\n",
       "      <td>Phone</td>\n",
       "      <td>Duplicate (closed)</td>\n",
       "      <td>2016-05-06 12:11:57</td>\n",
       "      <td>2016-05-06 12:01:46</td>\n",
       "      <td>2016-05-06 12:11:57</td>\n",
       "      <td>2016-05-06 12:11:57</td>\n",
       "      <td>...</td>\n",
       "      <td>78703.0</td>\n",
       "      <td>TRAVIS</td>\n",
       "      <td>3.106038e+06</td>\n",
       "      <td>1.008098e+07</td>\n",
       "      <td>30.296699</td>\n",
       "      <td>-97.768264</td>\n",
       "      <td>(30.29669887, -97.76826374)</td>\n",
       "      <td>10.0</td>\n",
       "      <td>584C</td>\n",
       "      <td>MH24</td>\n",
       "    </tr>\n",
       "    <tr>\n",
       "      <th>1</th>\n",
       "      <td>16-00108244</td>\n",
       "      <td>TRASIGMA</td>\n",
       "      <td>Traffic Signal - Maintenance</td>\n",
       "      <td>Transportation</td>\n",
       "      <td>Phone</td>\n",
       "      <td>Duplicate (closed)</td>\n",
       "      <td>2016-05-06 19:51:27</td>\n",
       "      <td>2016-05-06 19:51:27</td>\n",
       "      <td>2016-05-06 19:51:27</td>\n",
       "      <td>2016-05-06 19:51:27</td>\n",
       "      <td>...</td>\n",
       "      <td>78745.0</td>\n",
       "      <td>TRAVIS</td>\n",
       "      <td>3.096240e+06</td>\n",
       "      <td>1.005019e+07</td>\n",
       "      <td>30.212695</td>\n",
       "      <td>-97.801521</td>\n",
       "      <td>(30.2126949, -97.8015215)</td>\n",
       "      <td>5.0</td>\n",
       "      <td>643M</td>\n",
       "      <td>MF17</td>\n",
       "    </tr>\n",
       "    <tr>\n",
       "      <th>2</th>\n",
       "      <td>16-00108269</td>\n",
       "      <td>TRASIGMA</td>\n",
       "      <td>Traffic Signal - Maintenance</td>\n",
       "      <td>Transportation</td>\n",
       "      <td>Phone</td>\n",
       "      <td>Duplicate (closed)</td>\n",
       "      <td>2016-05-06 20:22:56</td>\n",
       "      <td>2016-05-06 20:22:56</td>\n",
       "      <td>2016-05-06 20:22:56</td>\n",
       "      <td>2016-05-06 20:22:56</td>\n",
       "      <td>...</td>\n",
       "      <td>78745.0</td>\n",
       "      <td>TRAVIS</td>\n",
       "      <td>3.096240e+06</td>\n",
       "      <td>1.005019e+07</td>\n",
       "      <td>30.212695</td>\n",
       "      <td>-97.801521</td>\n",
       "      <td>(30.2126949, -97.8015215)</td>\n",
       "      <td>5.0</td>\n",
       "      <td>643M</td>\n",
       "      <td>MF17</td>\n",
       "    </tr>\n",
       "    <tr>\n",
       "      <th>3</th>\n",
       "      <td>16-00108062</td>\n",
       "      <td>TRASIGMA</td>\n",
       "      <td>Traffic Signal - Maintenance</td>\n",
       "      <td>Transportation</td>\n",
       "      <td>Phone</td>\n",
       "      <td>Duplicate (closed)</td>\n",
       "      <td>2016-05-10 16:56:52</td>\n",
       "      <td>2016-05-06 17:03:45</td>\n",
       "      <td>2016-05-10 16:56:52</td>\n",
       "      <td>2016-05-10 16:56:52</td>\n",
       "      <td>...</td>\n",
       "      <td>78759.0</td>\n",
       "      <td>TRAVIS</td>\n",
       "      <td>3.105863e+06</td>\n",
       "      <td>1.011309e+07</td>\n",
       "      <td>30.384989</td>\n",
       "      <td>-97.766471</td>\n",
       "      <td>(30.38498865, -97.76647071)</td>\n",
       "      <td>10.0</td>\n",
       "      <td>494L</td>\n",
       "      <td>MH32</td>\n",
       "    </tr>\n",
       "    <tr>\n",
       "      <th>4</th>\n",
       "      <td>16-00107570</td>\n",
       "      <td>TRAFFI10</td>\n",
       "      <td>Traffic Signal - Dig Tess Request</td>\n",
       "      <td>Transportation</td>\n",
       "      <td>Phone</td>\n",
       "      <td>Closed</td>\n",
       "      <td>2016-05-06 09:42:06</td>\n",
       "      <td>2016-05-06 09:30:00</td>\n",
       "      <td>2016-05-06 09:42:06</td>\n",
       "      <td>2016-05-06 09:42:06</td>\n",
       "      <td>...</td>\n",
       "      <td>78722.0</td>\n",
       "      <td>TRAVIS</td>\n",
       "      <td>3.120409e+06</td>\n",
       "      <td>1.007505e+07</td>\n",
       "      <td>30.279474</td>\n",
       "      <td>-97.723184</td>\n",
       "      <td>(30.27947367, -97.72318365)</td>\n",
       "      <td>1.0</td>\n",
       "      <td>585Q</td>\n",
       "      <td>MK23</td>\n",
       "    </tr>\n",
       "  </tbody>\n",
       "</table>\n",
       "<p>5 rows × 24 columns</p>\n",
       "</div>"
      ],
      "text/plain": [
       "  Service Request (SR) Number SR Type Code                     SR Description  \\\n",
       "0                 16-00107769     TRASIGMA       Traffic Signal - Maintenance   \n",
       "1                 16-00108244     TRASIGMA       Traffic Signal - Maintenance   \n",
       "2                 16-00108269     TRASIGMA       Traffic Signal - Maintenance   \n",
       "3                 16-00108062     TRASIGMA       Traffic Signal - Maintenance   \n",
       "4                 16-00107570     TRAFFI10  Traffic Signal - Dig Tess Request   \n",
       "\n",
       "  Owning Department Method Received           SR Status  Status Change Date  \\\n",
       "0    Transportation           Phone  Duplicate (closed) 2016-05-06 12:11:57   \n",
       "1    Transportation           Phone  Duplicate (closed) 2016-05-06 19:51:27   \n",
       "2    Transportation           Phone  Duplicate (closed) 2016-05-06 20:22:56   \n",
       "3    Transportation           Phone  Duplicate (closed) 2016-05-10 16:56:52   \n",
       "4    Transportation           Phone              Closed 2016-05-06 09:42:06   \n",
       "\n",
       "         Created Date    Last Update Date          Close Date    ...     \\\n",
       "0 2016-05-06 12:01:46 2016-05-06 12:11:57 2016-05-06 12:11:57    ...      \n",
       "1 2016-05-06 19:51:27 2016-05-06 19:51:27 2016-05-06 19:51:27    ...      \n",
       "2 2016-05-06 20:22:56 2016-05-06 20:22:56 2016-05-06 20:22:56    ...      \n",
       "3 2016-05-06 17:03:45 2016-05-10 16:56:52 2016-05-10 16:56:52    ...      \n",
       "4 2016-05-06 09:30:00 2016-05-06 09:42:06 2016-05-06 09:42:06    ...      \n",
       "\n",
       "  Zip Code  County State Plane X Coordinate State Plane Y Coordinate  \\\n",
       "0  78703.0  TRAVIS             3.106038e+06             1.008098e+07   \n",
       "1  78745.0  TRAVIS             3.096240e+06             1.005019e+07   \n",
       "2  78745.0  TRAVIS             3.096240e+06             1.005019e+07   \n",
       "3  78759.0  TRAVIS             3.105863e+06             1.011309e+07   \n",
       "4  78722.0  TRAVIS             3.120409e+06             1.007505e+07   \n",
       "\n",
       "   Latitude Coordinate Longitude Coordinate         (Latitude.Longitude)  \\\n",
       "0            30.296699           -97.768264  (30.29669887, -97.76826374)   \n",
       "1            30.212695           -97.801521    (30.2126949, -97.8015215)   \n",
       "2            30.212695           -97.801521    (30.2126949, -97.8015215)   \n",
       "3            30.384989           -97.766471  (30.38498865, -97.76647071)   \n",
       "4            30.279474           -97.723184  (30.27947367, -97.72318365)   \n",
       "\n",
       "   Council District  Map Page  Map Tile  \n",
       "0              10.0      584C      MH24  \n",
       "1               5.0      643M      MF17  \n",
       "2               5.0      643M      MF17  \n",
       "3              10.0      494L      MH32  \n",
       "4               1.0      585Q      MK23  \n",
       "\n",
       "[5 rows x 24 columns]"
      ]
     },
     "execution_count": 12,
     "metadata": {},
     "output_type": "execute_result"
    }
   ],
   "source": [
    "df_request.head(5)"
   ]
  },
  {
   "cell_type": "code",
   "execution_count": 13,
   "metadata": {
    "collapsed": false
   },
   "outputs": [],
   "source": [
    "import numpy as np\n",
    "x = df_request['Latitude Coordinate'].values\n",
    "y = df_request['Longitude Coordinate'].values\n",
    "X = x.reshape(len(x),1)\n",
    "Y = y.reshape(len(y),1)\n",
    "mydata = np.hstack((X,Y))"
   ]
  },
  {
   "cell_type": "code",
   "execution_count": 14,
   "metadata": {
    "collapsed": true
   },
   "outputs": [],
   "source": [
    "myData = mydata[~np.isnan(mydata).any(axis=1)]"
   ]
  },
  {
   "cell_type": "code",
   "execution_count": 15,
   "metadata": {
    "collapsed": false
   },
   "outputs": [
    {
     "name": "stdout",
     "output_type": "stream",
     "text": [
      "[[ 30.29669887 -97.76826374]\n",
      " [ 30.2126949  -97.8015215 ]\n",
      " [ 30.2126949  -97.8015215 ]\n",
      " ..., \n",
      " [ 30.26832189 -97.7364928 ]\n",
      " [ 30.26808964 -97.75173887]\n",
      " [ 30.19577459 -97.77327825]]\n"
     ]
    }
   ],
   "source": [
    "print(myData)"
   ]
  },
  {
   "cell_type": "code",
   "execution_count": 16,
   "metadata": {
    "collapsed": true
   },
   "outputs": [],
   "source": [
    "from sklearn.cluster import KMeans"
   ]
  },
  {
   "cell_type": "code",
   "execution_count": 17,
   "metadata": {
    "collapsed": false
   },
   "outputs": [],
   "source": [
    "kmeans = KMeans(n_clusters=4, random_state=0).fit(myData)"
   ]
  },
  {
   "cell_type": "code",
   "execution_count": 18,
   "metadata": {
    "collapsed": false
   },
   "outputs": [
    {
     "data": {
      "text/plain": [
       "array([2, 1, 1, ..., 2, 2, 1], dtype=int32)"
      ]
     },
     "execution_count": 18,
     "metadata": {},
     "output_type": "execute_result"
    }
   ],
   "source": [
    "kmeans.labels_"
   ]
  },
  {
   "cell_type": "code",
   "execution_count": 19,
   "metadata": {
    "collapsed": false
   },
   "outputs": [
    {
     "name": "stderr",
     "output_type": "stream",
     "text": [
      "/opt/conda/lib/python3.5/site-packages/matplotlib/font_manager.py:273: UserWarning: Matplotlib is building the font cache using fc-list. This may take a moment.\n",
      "  warnings.warn('Matplotlib is building the font cache using fc-list. This may take a moment.')\n",
      "/opt/conda/lib/python3.5/site-packages/matplotlib/font_manager.py:273: UserWarning: Matplotlib is building the font cache using fc-list. This may take a moment.\n",
      "  warnings.warn('Matplotlib is building the font cache using fc-list. This may take a moment.')\n"
     ]
    }
   ],
   "source": [
    "import matplotlib.pyplot as pp"
   ]
  },
  {
   "cell_type": "code",
   "execution_count": 20,
   "metadata": {
    "collapsed": false
   },
   "outputs": [
    {
     "data": {
      "text/plain": [
       "<matplotlib.text.Text at 0x7fe585a08cf8>"
      ]
     },
     "execution_count": 20,
     "metadata": {},
     "output_type": "execute_result"
    },
    {
     "data": {
      "image/png": "[encoded data removed]",
      "text/plain": [
       "<matplotlib.figure.Figure at 0x7fe585806518>"
      ]
     },
     "metadata": {},
     "output_type": "display_data"
    }
   ],
   "source": [
    "# View the results\n",
    "# Set the size of the plot\n",
    "pp.figure(figsize=(14,7))\n",
    " \n",
    "# Create a colormap\n",
    "colormap = np.array(['red', 'yellow','green','blue'])\n",
    " \n",
    "# Plot the Models Classifications\n",
    "#pp.subplot(1, 1, 1)\n",
    "pp.scatter(myData[:,0], myData[:,1], c=colormap[kmeans.labels_], s=60)\n",
    "pp.title('K Mean Classification')\n"
   ]
  },
  {
   "cell_type": "code",
   "execution_count": 21,
   "metadata": {
    "collapsed": true
   },
   "outputs": [],
   "source": [
    "pp.show()"
   ]
  },
  {
   "cell_type": "code",
   "execution_count": 22,
   "metadata": {
    "collapsed": false
   },
   "outputs": [
    {
     "data": {
      "text/plain": [
       "Service Request (SR) Number        0\n",
       "SR Type Code                       0\n",
       "SR Description                     0\n",
       "Owning Department                  0\n",
       "Method Received                    0\n",
       "SR Status                          0\n",
       "Status Change Date                 0\n",
       "Created Date                       0\n",
       "Last Update Date                   0\n",
       "Close Date                      4142\n",
       "SR Location                        0\n",
       "Street Number                  44117\n",
       "Street Name                       17\n",
       "City                               0\n",
       "Zip Code                           1\n",
       "County                             0\n",
       "State Plane X Coordinate           1\n",
       "State Plane Y Coordinate          16\n",
       "Latitude Coordinate                3\n",
       "Longitude Coordinate               3\n",
       "(Latitude.Longitude)               3\n",
       "Council District                1144\n",
       "Map Page                           1\n",
       "Map Tile                           2\n",
       "dtype: int64"
      ]
     },
     "execution_count": 22,
     "metadata": {},
     "output_type": "execute_result"
    }
   ],
   "source": [
    "df_request.isnull().sum()"
   ]
  },
  {
   "cell_type": "code",
   "execution_count": null,
   "metadata": {
    "collapsed": false
   },
   "outputs": [],
   "source": [
    "!csvstat servicerequest.csv"
   ]
  },
  {
   "cell_type": "markdown",
   "metadata": {},
   "source": [
    "## Problem 2 - define a database model, load the data, and explore (20 points)\n",
    "\n",
    "Based on what you found above, create and connect to a new database, define a database table in it, and load this dataset into it.  You may use either of the methods for this step you have seen in earlier class notebooks.  You may choose to eliminate variables/columns if they are not relevant or interesting to you - explain your reasoning if you do.  Either way, you should load a majority of the columns present in the source dataset as it is in its raw form into the database, and all of its rows.\n",
    "\n",
    "Once your data has loaded successfully, run a `COUNT(*)` query to verify that all the data has loaded correctly.\n",
    "\n",
    "Explore the data to zero in on a few themes you would like to further study analytically.  Discuss columns that present opportunities for extraction into dimensions, and identify the specific columns that contain facts you want to measure."
   ]
  },
  {
   "cell_type": "markdown",
   "metadata": {},
   "source": [
    "#### In this step, we create and connecte to a new database, and define it as sr_austin. We load all data from the data source into sr_austin. We explore columns of this new database. For instance, what is the lastest date of created_date? How many records do we have? How many types of requests about this database? For Public Works department, what is the frequency of each type of requests?  How many types of status? How many requests happened in each council_district?"
   ]
  },
  {
   "cell_type": "code",
   "execution_count": 24,
   "metadata": {
    "collapsed": false
   },
   "outputs": [
    {
     "name": "stdout",
     "output_type": "stream",
     "text": [
      "Done.\n",
      "Done.\n"
     ]
    },
    {
     "data": {
      "text/plain": [
       "[]"
      ]
     },
     "execution_count": 24,
     "metadata": {},
     "output_type": "execute_result"
    }
   ],
   "source": [
    "%%sql\n",
    "DROP TABLE IF EXISTS sr_austin;\n",
    "CREATE TABLE sr_austin (\n",
    "    SR_number VARCHAR(11),\n",
    "    SR_type_code VARCHAR(8),\n",
    "    SR_description VARCHAR(51),\n",
    "    Owning_department VARCHAR(44),\n",
    "    Method_received VARCHAR(18),\n",
    "    SR_Status VARCHAR(30),\n",
    "    Status_change_date TIMESTAMP,\n",
    "    Created_date TIMESTAMP,\n",
    "    Last_update_date TIMESTAMP,\n",
    "    Close_date TIMESTAMP,\n",
    "    SR_location VARCHAR(151),\n",
    "    Street_number INTEGER,\n",
    "    Street_name VARCHAR(76),\n",
    "    City VARCHAR(16),\n",
    "    Zip_code INTEGER,\n",
    "    County VARCHAR(25),\n",
    "    State_Plane_X_Coordinate VARCHAR(300), \n",
    "    State_Plane_Y_Coordinate VARCHAR(300),\n",
    "    Latitude_Coordinate VARCHAR(80),\n",
    "    Longitude_Coordinate VARCHAR(80),\n",
    "    Latitude_Longitude POINT,\n",
    "    Council_District INTEGER,\n",
    "    Map_Page VARCHAR(4),\n",
    "    Map_Tile VARCHAR(4)\n",
    ");"
   ]
  },
  {
   "cell_type": "code",
   "execution_count": 25,
   "metadata": {
    "collapsed": false
   },
   "outputs": [
    {
     "name": "stdout",
     "output_type": "stream",
     "text": [
      "/home/jovyan/work\r\n"
     ]
    }
   ],
   "source": [
    "!pwd"
   ]
  },
  {
   "cell_type": "code",
   "execution_count": 26,
   "metadata": {
    "collapsed": false
   },
   "outputs": [
    {
     "name": "stdout",
     "output_type": "stream",
     "text": [
      "84578 rows affected.\n"
     ]
    },
    {
     "data": {
      "text/plain": [
       "[]"
      ]
     },
     "execution_count": 26,
     "metadata": {},
     "output_type": "execute_result"
    }
   ],
   "source": [
    "%%sql\n",
    "COPY sr_austin FROM '/home/jovyan/work/servicerequest.csv'\n",
    "CSV\n",
    "HEADER\n",
    "QUOTE '\"'\n",
    "DELIMITER ','; "
   ]
  },
  {
   "cell_type": "code",
   "execution_count": 27,
   "metadata": {
    "collapsed": false
   },
   "outputs": [
    {
     "name": "stdout",
     "output_type": "stream",
     "text": [
      "1 rows affected.\n"
     ]
    },
    {
     "data": {
      "text/html": [
       "<table>\n",
       "    <tr>\n",
       "        <th>sr_number</th>\n",
       "        <th>sr_type_code</th>\n",
       "        <th>sr_description</th>\n",
       "        <th>owning_department</th>\n",
       "        <th>method_received</th>\n",
       "        <th>sr_status</th>\n",
       "        <th>status_change_date</th>\n",
       "        <th>created_date</th>\n",
       "        <th>last_update_date</th>\n",
       "        <th>close_date</th>\n",
       "        <th>sr_location</th>\n",
       "        <th>street_number</th>\n",
       "        <th>street_name</th>\n",
       "        <th>city</th>\n",
       "        <th>zip_code</th>\n",
       "        <th>county</th>\n",
       "        <th>state_plane_x_coordinate</th>\n",
       "        <th>state_plane_y_coordinate</th>\n",
       "        <th>latitude_coordinate</th>\n",
       "        <th>longitude_coordinate</th>\n",
       "        <th>latitude_longitude</th>\n",
       "        <th>council_district</th>\n",
       "        <th>map_page</th>\n",
       "        <th>map_tile</th>\n",
       "    </tr>\n",
       "    <tr>\n",
       "        <td>16-00107769</td>\n",
       "        <td>TRASIGMA</td>\n",
       "        <td>Traffic Signal - Maintenance</td>\n",
       "        <td>Transportation</td>\n",
       "        <td>Phone</td>\n",
       "        <td>Duplicate (closed)</td>\n",
       "        <td>2016-05-06 12:11:57</td>\n",
       "        <td>2016-05-06 12:01:46</td>\n",
       "        <td>2016-05-06 12:11:57</td>\n",
       "        <td>2016-05-06 12:11:57</td>\n",
       "        <td>WINDSOR RD &amp; EXPOSITION BLVD, AUSTIN, TX 78703</td>\n",
       "        <td>None</td>\n",
       "        <td>WINDSOR RD &amp; EXPOSITION BLVD</td>\n",
       "        <td>AUSTIN</td>\n",
       "        <td>78703</td>\n",
       "        <td>TRAVIS</td>\n",
       "        <td>3106038.49745799</td>\n",
       "        <td>10080978.0030157</td>\n",
       "        <td>30.29669887</td>\n",
       "        <td>-97.76826374</td>\n",
       "        <td>(30.29669887,-97.76826374)</td>\n",
       "        <td>10</td>\n",
       "        <td>584C</td>\n",
       "        <td>MH24</td>\n",
       "    </tr>\n",
       "</table>"
      ],
      "text/plain": [
       "[('16-00107769', 'TRASIGMA', 'Traffic Signal - Maintenance', 'Transportation', 'Phone', 'Duplicate (closed)', datetime.datetime(2016, 5, 6, 12, 11, 57), datetime.datetime(2016, 5, 6, 12, 1, 46), datetime.datetime(2016, 5, 6, 12, 11, 57), datetime.datetime(2016, 5, 6, 12, 11, 57), 'WINDSOR RD & EXPOSITION BLVD, AUSTIN, TX 78703', None, 'WINDSOR RD & EXPOSITION BLVD', 'AUSTIN', 78703, 'TRAVIS', '3106038.49745799', '10080978.0030157', '30.29669887', '-97.76826374', '(30.29669887,-97.76826374)', 10, '584C', 'MH24')]"
      ]
     },
     "execution_count": 27,
     "metadata": {},
     "output_type": "execute_result"
    }
   ],
   "source": [
    "%%sql\n",
    "SELECT *\n",
    "FROM sr_austin\n",
    "LIMIT 1;"
   ]
  },
  {
   "cell_type": "code",
   "execution_count": 28,
   "metadata": {
    "collapsed": false
   },
   "outputs": [
    {
     "name": "stdout",
     "output_type": "stream",
     "text": [
      "1 rows affected.\n"
     ]
    },
    {
     "data": {
      "text/html": [
       "<table>\n",
       "    <tr>\n",
       "        <th>max</th>\n",
       "    </tr>\n",
       "    <tr>\n",
       "        <td>2016-11-04 10:26:07</td>\n",
       "    </tr>\n",
       "</table>"
      ],
      "text/plain": [
       "[(datetime.datetime(2016, 11, 4, 10, 26, 7),)]"
      ]
     },
     "execution_count": 28,
     "metadata": {},
     "output_type": "execute_result"
    }
   ],
   "source": [
    "%%sql\n",
    "SELECT MAX(Created_date)\n",
    "FROM sr_austin;"
   ]
  },
  {
   "cell_type": "code",
   "execution_count": 29,
   "metadata": {
    "collapsed": false
   },
   "outputs": [
    {
     "name": "stdout",
     "output_type": "stream",
     "text": [
      "1 rows affected.\n"
     ]
    },
    {
     "data": {
      "text/html": [
       "<table>\n",
       "    <tr>\n",
       "        <th>min</th>\n",
       "    </tr>\n",
       "    <tr>\n",
       "        <td>2014-01-01 04:25:00</td>\n",
       "    </tr>\n",
       "</table>"
      ],
      "text/plain": [
       "[(datetime.datetime(2014, 1, 1, 4, 25),)]"
      ]
     },
     "execution_count": 29,
     "metadata": {},
     "output_type": "execute_result"
    }
   ],
   "source": [
    "%%sql \n",
    "SELECT MIN(Created_date)\n",
    "FROM sr_austin;"
   ]
  },
  {
   "cell_type": "markdown",
   "metadata": {},
   "source": [
    "#### The number of service requests can be measured in a certain time period, thus created time and the more specific information extracted from it could become a dimension. "
   ]
  },
  {
   "cell_type": "code",
   "execution_count": 30,
   "metadata": {
    "collapsed": false
   },
   "outputs": [
    {
     "name": "stdout",
     "output_type": "stream",
     "text": [
      "1 rows affected.\n"
     ]
    },
    {
     "data": {
      "text/html": [
       "<table>\n",
       "    <tr>\n",
       "        <th>count</th>\n",
       "    </tr>\n",
       "    <tr>\n",
       "        <td>84578</td>\n",
       "    </tr>\n",
       "</table>"
      ],
      "text/plain": [
       "[(84578,)]"
      ]
     },
     "execution_count": 30,
     "metadata": {},
     "output_type": "execute_result"
    }
   ],
   "source": [
    "%%sql\n",
    "SELECT COUNT(*)\n",
    "FROM sr_austin;"
   ]
  },
  {
   "cell_type": "code",
   "execution_count": 31,
   "metadata": {
    "collapsed": false
   },
   "outputs": [
    {
     "name": "stdout",
     "output_type": "stream",
     "text": [
      "35 rows affected.\n"
     ]
    },
    {
     "data": {
      "text/html": [
       "<table>\n",
       "    <tr>\n",
       "        <th>sr_description</th>\n",
       "        <th>num_sr</th>\n",
       "    </tr>\n",
       "    <tr>\n",
       "        <td>Traffic Signal - Maintenance</td>\n",
       "        <td>21554</td>\n",
       "    </tr>\n",
       "    <tr>\n",
       "        <td>Traffic Signal - Dig Tess Request</td>\n",
       "        <td>8304</td>\n",
       "    </tr>\n",
       "    <tr>\n",
       "        <td>Sign - Traffic Sign Emergency</td>\n",
       "        <td>2916</td>\n",
       "    </tr>\n",
       "    <tr>\n",
       "        <td>Parking Machine Issue</td>\n",
       "        <td>2519</td>\n",
       "    </tr>\n",
       "    <tr>\n",
       "        <td>Sign - New</td>\n",
       "        <td>2445</td>\n",
       "    </tr>\n",
       "    <tr>\n",
       "        <td>Concerns in the ROW</td>\n",
       "        <td>2098</td>\n",
       "    </tr>\n",
       "    <tr>\n",
       "        <td>View Obstruction at Intersection</td>\n",
       "        <td>1984</td>\n",
       "    </tr>\n",
       "    <tr>\n",
       "        <td>Sign - Traffic Sign Maintenance</td>\n",
       "        <td>1889</td>\n",
       "    </tr>\n",
       "    <tr>\n",
       "        <td>Sign - Street Name</td>\n",
       "        <td>1322</td>\n",
       "    </tr>\n",
       "    <tr>\n",
       "        <td>Road Markings/Striping - Maintenance</td>\n",
       "        <td>1299</td>\n",
       "    </tr>\n",
       "    <tr>\n",
       "        <td>Traffic Signal - New/Change</td>\n",
       "        <td>1188</td>\n",
       "    </tr>\n",
       "    <tr>\n",
       "        <td>Traffic Engineering - General</td>\n",
       "        <td>1008</td>\n",
       "    </tr>\n",
       "    <tr>\n",
       "        <td>School Zone Flasher - Timing/Maintenance</td>\n",
       "        <td>992</td>\n",
       "    </tr>\n",
       "    <tr>\n",
       "        <td>Construction Items- ROW</td>\n",
       "        <td>928</td>\n",
       "    </tr>\n",
       "    <tr>\n",
       "        <td>Sign - Parking Sign Maintenance</td>\n",
       "        <td>914</td>\n",
       "    </tr>\n",
       "    <tr>\n",
       "        <td>Traffic Calming</td>\n",
       "        <td>717</td>\n",
       "    </tr>\n",
       "    <tr>\n",
       "        <td>Road Markings/Striping - New</td>\n",
       "        <td>665</td>\n",
       "    </tr>\n",
       "    <tr>\n",
       "        <td>Bicycle Issues</td>\n",
       "        <td>541</td>\n",
       "    </tr>\n",
       "    <tr>\n",
       "        <td>Lane/Road Closure Notification</td>\n",
       "        <td>473</td>\n",
       "    </tr>\n",
       "    <tr>\n",
       "        <td>Sidewalk/Curb Ramp/Route - NEW</td>\n",
       "        <td>419</td>\n",
       "    </tr>\n",
       "    <tr>\n",
       "        <td>Parking Ticket Complaint</td>\n",
       "        <td>384</td>\n",
       "    </tr>\n",
       "    <tr>\n",
       "        <td>Construction items in ROW</td>\n",
       "        <td>317</td>\n",
       "    </tr>\n",
       "    <tr>\n",
       "        <td>Sign - School Zone Sign Maintenance</td>\n",
       "        <td>195</td>\n",
       "    </tr>\n",
       "    <tr>\n",
       "        <td>Speed Limit - Changes/Signs</td>\n",
       "        <td>172</td>\n",
       "    </tr>\n",
       "    <tr>\n",
       "        <td>Parking Violation Enforcement</td>\n",
       "        <td>154</td>\n",
       "    </tr>\n",
       "    <tr>\n",
       "        <td>School Issues - Crossing Guards</td>\n",
       "        <td>151</td>\n",
       "    </tr>\n",
       "    <tr>\n",
       "        <td>Construction/Permitting- ROW</td>\n",
       "        <td>111</td>\n",
       "    </tr>\n",
       "    <tr>\n",
       "        <td>Vendor Permit - ROW</td>\n",
       "        <td>53</td>\n",
       "    </tr>\n",
       "    <tr>\n",
       "        <td>Parking Permit- ROW</td>\n",
       "        <td>38</td>\n",
       "    </tr>\n",
       "    <tr>\n",
       "        <td>Valet Permit - ROW</td>\n",
       "        <td>15</td>\n",
       "    </tr>\n",
       "    <tr>\n",
       "        <td>Traffic Engineering - Jurisdiction Issue</td>\n",
       "        <td>8</td>\n",
       "    </tr>\n",
       "    <tr>\n",
       "        <td>Utility Coordination - ROW</td>\n",
       "        <td>4</td>\n",
       "    </tr>\n",
       "    <tr>\n",
       "        <td>Filming Permit - ROW</td>\n",
       "        <td>4</td>\n",
       "    </tr>\n",
       "    <tr>\n",
       "        <td>Newspaper Rack- ROW</td>\n",
       "        <td>3</td>\n",
       "    </tr>\n",
       "    <tr>\n",
       "        <td>Emergency Road Closure Report</td>\n",
       "        <td>1</td>\n",
       "    </tr>\n",
       "</table>"
      ],
      "text/plain": [
       "[('Traffic Signal - Maintenance', 21554),\n",
       " ('Traffic Signal - Dig Tess Request', 8304),\n",
       " ('Sign - Traffic Sign Emergency', 2916),\n",
       " ('Parking Machine Issue', 2519),\n",
       " ('Sign - New', 2445),\n",
       " ('Concerns in the ROW', 2098),\n",
       " ('View Obstruction at Intersection', 1984),\n",
       " ('Sign - Traffic Sign Maintenance', 1889),\n",
       " ('Sign - Street Name', 1322),\n",
       " ('Road Markings/Striping - Maintenance', 1299),\n",
       " ('Traffic Signal - New/Change', 1188),\n",
       " ('Traffic Engineering - General', 1008),\n",
       " ('School Zone Flasher - Timing/Maintenance', 992),\n",
       " ('Construction Items- ROW', 928),\n",
       " ('Sign - Parking Sign Maintenance', 914),\n",
       " ('Traffic Calming', 717),\n",
       " ('Road Markings/Striping - New', 665),\n",
       " ('Bicycle Issues', 541),\n",
       " ('Lane/Road Closure Notification', 473),\n",
       " ('Sidewalk/Curb Ramp/Route - NEW', 419),\n",
       " ('Parking Ticket Complaint', 384),\n",
       " ('Construction items in ROW', 317),\n",
       " ('Sign - School Zone Sign Maintenance', 195),\n",
       " ('Speed Limit - Changes/Signs', 172),\n",
       " ('Parking Violation Enforcement', 154),\n",
       " ('School Issues - Crossing Guards', 151),\n",
       " ('Construction/Permitting- ROW', 111),\n",
       " ('Vendor Permit - ROW', 53),\n",
       " ('Parking Permit- ROW', 38),\n",
       " ('Valet Permit - ROW', 15),\n",
       " ('Traffic Engineering - Jurisdiction Issue', 8),\n",
       " ('Utility Coordination - ROW', 4),\n",
       " ('Filming Permit - ROW', 4),\n",
       " ('Newspaper Rack- ROW', 3),\n",
       " ('Emergency Road Closure Report', 1)]"
      ]
     },
     "execution_count": 31,
     "metadata": {},
     "output_type": "execute_result"
    }
   ],
   "source": [
    "%%sql\n",
    "SELECT sr_description,COUNT(*) AS num_sr\n",
    "FROM sr_austin\n",
    "WHERE owning_department = 'Transportation'\n",
    "GROUP BY sr_description\n",
    "ORDER BY num_sr DESC;"
   ]
  },
  {
   "cell_type": "markdown",
   "metadata": {},
   "source": [
    "#### We want to know of the service requests, how many of them are of a centain type, thus type of service request could be a dimension."
   ]
  },
  {
   "cell_type": "code",
   "execution_count": 32,
   "metadata": {
    "collapsed": false
   },
   "outputs": [
    {
     "name": "stdout",
     "output_type": "stream",
     "text": [
      "24 rows affected.\n"
     ]
    },
    {
     "data": {
      "text/html": [
       "<table>\n",
       "    <tr>\n",
       "        <th>sr_description</th>\n",
       "        <th>num_sr</th>\n",
       "    </tr>\n",
       "    <tr>\n",
       "        <td>Debris in Street</td>\n",
       "        <td>4822</td>\n",
       "    </tr>\n",
       "    <tr>\n",
       "        <td>Obstruction in ROW</td>\n",
       "        <td>4601</td>\n",
       "    </tr>\n",
       "    <tr>\n",
       "        <td>Pothole Repair</td>\n",
       "        <td>4044</td>\n",
       "    </tr>\n",
       "    <tr>\n",
       "        <td>Tree Issue ROW/Maintenance (PW)</td>\n",
       "        <td>3652</td>\n",
       "    </tr>\n",
       "    <tr>\n",
       "        <td>Tree Issue ROW/Emergency (PW)</td>\n",
       "        <td>3462</td>\n",
       "    </tr>\n",
       "    <tr>\n",
       "        <td>Pavement Failure</td>\n",
       "        <td>2312</td>\n",
       "    </tr>\n",
       "    <tr>\n",
       "        <td>Sidewalk Repair</td>\n",
       "        <td>1597</td>\n",
       "    </tr>\n",
       "    <tr>\n",
       "        <td>Mowing Medians</td>\n",
       "        <td>1389</td>\n",
       "    </tr>\n",
       "    <tr>\n",
       "        <td>Alley &amp; Unpaved Street Maintenance</td>\n",
       "        <td>968</td>\n",
       "    </tr>\n",
       "    <tr>\n",
       "        <td>Curb/Gutter Repair</td>\n",
       "        <td>439</td>\n",
       "    </tr>\n",
       "    <tr>\n",
       "        <td>Street Resurfacing Inquiry</td>\n",
       "        <td>407</td>\n",
       "    </tr>\n",
       "    <tr>\n",
       "        <td>Guardrail Repair</td>\n",
       "        <td>231</td>\n",
       "    </tr>\n",
       "    <tr>\n",
       "        <td>School Zone - New/Review/Changes</td>\n",
       "        <td>212</td>\n",
       "    </tr>\n",
       "    <tr>\n",
       "        <td>Barricade Request</td>\n",
       "        <td>207</td>\n",
       "    </tr>\n",
       "    <tr>\n",
       "        <td>Sidewalk/Curb Ramp/Route - NEW</td>\n",
       "        <td>91</td>\n",
       "    </tr>\n",
       "    <tr>\n",
       "        <td>Roadway Spillage</td>\n",
       "        <td>87</td>\n",
       "    </tr>\n",
       "    <tr>\n",
       "        <td>Bridge Repair</td>\n",
       "        <td>68</td>\n",
       "    </tr>\n",
       "    <tr>\n",
       "        <td>Bicycle Issues</td>\n",
       "        <td>62</td>\n",
       "    </tr>\n",
       "    <tr>\n",
       "        <td>Road Sanding Request</td>\n",
       "        <td>53</td>\n",
       "    </tr>\n",
       "    <tr>\n",
       "        <td>Tree Issue ROW/Maintenance (PARD)</td>\n",
       "        <td>27</td>\n",
       "    </tr>\n",
       "    <tr>\n",
       "        <td>Tree Issue ROW/Emergency (PARD)</td>\n",
       "        <td>24</td>\n",
       "    </tr>\n",
       "    <tr>\n",
       "        <td>School Issues - Crossing Guards</td>\n",
       "        <td>19</td>\n",
       "    </tr>\n",
       "    <tr>\n",
       "        <td>Guardrail - New</td>\n",
       "        <td>18</td>\n",
       "    </tr>\n",
       "    <tr>\n",
       "        <td>Fence Repair - MOPAC</td>\n",
       "        <td>1</td>\n",
       "    </tr>\n",
       "</table>"
      ],
      "text/plain": [
       "[('Debris in Street', 4822),\n",
       " ('Obstruction in ROW', 4601),\n",
       " ('Pothole Repair', 4044),\n",
       " ('Tree Issue ROW/Maintenance (PW)', 3652),\n",
       " ('Tree Issue ROW/Emergency (PW)', 3462),\n",
       " ('Pavement Failure', 2312),\n",
       " ('Sidewalk Repair', 1597),\n",
       " ('Mowing Medians', 1389),\n",
       " ('Alley & Unpaved Street Maintenance', 968),\n",
       " ('Curb/Gutter Repair', 439),\n",
       " ('Street Resurfacing Inquiry', 407),\n",
       " ('Guardrail Repair', 231),\n",
       " ('School Zone - New/Review/Changes', 212),\n",
       " ('Barricade Request', 207),\n",
       " ('Sidewalk/Curb Ramp/Route - NEW', 91),\n",
       " ('Roadway Spillage', 87),\n",
       " ('Bridge Repair', 68),\n",
       " ('Bicycle Issues', 62),\n",
       " ('Road Sanding Request', 53),\n",
       " ('Tree Issue ROW/Maintenance (PARD)', 27),\n",
       " ('Tree Issue ROW/Emergency (PARD)', 24),\n",
       " ('School Issues - Crossing Guards', 19),\n",
       " ('Guardrail - New', 18),\n",
       " ('Fence Repair - MOPAC', 1)]"
      ]
     },
     "execution_count": 32,
     "metadata": {},
     "output_type": "execute_result"
    }
   ],
   "source": [
    "%%sql\n",
    "SELECT sr_description,COUNT(*) AS num_sr\n",
    "FROM sr_austin\n",
    "WHERE owning_department = 'Public Works'\n",
    "GROUP BY sr_description\n",
    "ORDER BY num_sr DESC;"
   ]
  },
  {
   "cell_type": "markdown",
   "metadata": {},
   "source": [
    "#### We want to know how many service requests happened in a certain region, thus location information such as council district,zip code street address could be a dimension."
   ]
  },
  {
   "cell_type": "code",
   "execution_count": 33,
   "metadata": {
    "collapsed": false
   },
   "outputs": [
    {
     "name": "stdout",
     "output_type": "stream",
     "text": [
      "11 rows affected.\n"
     ]
    },
    {
     "data": {
      "text/html": [
       "<table>\n",
       "    <tr>\n",
       "        <th>council_district</th>\n",
       "        <th>sr_num</th>\n",
       "    </tr>\n",
       "    <tr>\n",
       "        <td>9</td>\n",
       "        <td>18114</td>\n",
       "    </tr>\n",
       "    <tr>\n",
       "        <td>7</td>\n",
       "        <td>9695</td>\n",
       "    </tr>\n",
       "    <tr>\n",
       "        <td>1</td>\n",
       "        <td>9636</td>\n",
       "    </tr>\n",
       "    <tr>\n",
       "        <td>10</td>\n",
       "        <td>9249</td>\n",
       "    </tr>\n",
       "    <tr>\n",
       "        <td>3</td>\n",
       "        <td>8386</td>\n",
       "    </tr>\n",
       "    <tr>\n",
       "        <td>5</td>\n",
       "        <td>8286</td>\n",
       "    </tr>\n",
       "    <tr>\n",
       "        <td>2</td>\n",
       "        <td>6307</td>\n",
       "    </tr>\n",
       "    <tr>\n",
       "        <td>8</td>\n",
       "        <td>6075</td>\n",
       "    </tr>\n",
       "    <tr>\n",
       "        <td>4</td>\n",
       "        <td>6001</td>\n",
       "    </tr>\n",
       "    <tr>\n",
       "        <td>6</td>\n",
       "        <td>1685</td>\n",
       "    </tr>\n",
       "    <tr>\n",
       "        <td>None</td>\n",
       "        <td>1144</td>\n",
       "    </tr>\n",
       "</table>"
      ],
      "text/plain": [
       "[(9, 18114),\n",
       " (7, 9695),\n",
       " (1, 9636),\n",
       " (10, 9249),\n",
       " (3, 8386),\n",
       " (5, 8286),\n",
       " (2, 6307),\n",
       " (8, 6075),\n",
       " (4, 6001),\n",
       " (6, 1685),\n",
       " (None, 1144)]"
      ]
     },
     "execution_count": 33,
     "metadata": {},
     "output_type": "execute_result"
    }
   ],
   "source": [
    "%%sql\n",
    "SELECT Council_District,COUNT(*) AS sr_num\n",
    "FROM sr_austin\n",
    "GROUP BY Council_District\n",
    "ORDER BY sr_num DESC;"
   ]
  },
  {
   "cell_type": "markdown",
   "metadata": {},
   "source": [
    "## Problem 3 - define a star schema, and load your data into it (30 points)\n",
    "\n",
    "Define a star schema consisting of at least one fact table and at least two dimensions.  Transform your source data into the new fact table and dimensions.  Discuss your key modeling decisions.\n",
    "\n",
    "Document your star schema with a diagram.  There several tools available for this, such as Google Docs and Microsoft Visio."
   ]
  },
  {
   "cell_type": "markdown",
   "metadata": {},
   "source": [
    "#### In this step, we define three dimension tables and one fact table. About dimension tables, we respectively create time table, loaction table and type table. We creat one fact table which includes sr_number, time_key, address_key and sr_type key. We think time, location and type can help us measure the frequency of requests. Thus we use these three dimension to create the factless fact table for events, which contains every single record of service request. It seems that facts are associated with a service requests process and it does support measurement. We can explore more detailed things by joining dimension tables with fact table. "
   ]
  },
  {
   "cell_type": "markdown",
   "metadata": {},
   "source": [
    "### Step 1. In this step, we select columns from source data which we want to explore and create a table named sr"
   ]
  },
  {
   "cell_type": "code",
   "execution_count": 37,
   "metadata": {
    "collapsed": false
   },
   "outputs": [
    {
     "name": "stdout",
     "output_type": "stream",
     "text": [
      "Done.\n",
      "Done.\n"
     ]
    },
    {
     "data": {
      "text/plain": [
       "[]"
      ]
     },
     "execution_count": 37,
     "metadata": {},
     "output_type": "execute_result"
    }
   ],
   "source": [
    "%%sql\n",
    "DROP TABLE IF EXISTS sr;\n",
    "CREATE TABLE sr(\n",
    "    sr_number VARCHAR(11),\n",
    "    code VARCHAR(8),\n",
    "    description VARCHAR(51),\n",
    "    created_date TIMESTAMP,\n",
    "    address VARCHAR(151),\n",
    "    zip_code INTEGER,\n",
    "    CouncilDistrict INTEGER\n",
    ");"
   ]
  },
  {
   "cell_type": "code",
   "execution_count": 38,
   "metadata": {
    "collapsed": false
   },
   "outputs": [
    {
     "name": "stdout",
     "output_type": "stream",
     "text": [
      "84578 rows affected.\n"
     ]
    },
    {
     "data": {
      "text/plain": [
       "[]"
      ]
     },
     "execution_count": 38,
     "metadata": {},
     "output_type": "execute_result"
    }
   ],
   "source": [
    "%%sql\n",
    "INSERT INTO sr(sr_number,code,description,created_date,address,zip_code,CouncilDistrict)\n",
    "SELECT DISTINCT SR_number,SR_type_code,SR_description,Created_date,SR_location,Zip_code,Council_District\n",
    "FROM sr_austin;"
   ]
  },
  {
   "cell_type": "markdown",
   "metadata": {},
   "source": [
    "### Step 2. We deal with some special columns which includes null value."
   ]
  },
  {
   "cell_type": "code",
   "execution_count": 39,
   "metadata": {
    "collapsed": false
   },
   "outputs": [
    {
     "name": "stdout",
     "output_type": "stream",
     "text": [
      "1 rows affected.\n"
     ]
    },
    {
     "data": {
      "text/plain": [
       "[]"
      ]
     },
     "execution_count": 39,
     "metadata": {},
     "output_type": "execute_result"
    }
   ],
   "source": [
    "%%sql\n",
    "UPDATE sr\n",
    "SET zip_code = 0\n",
    "WHERE zip_code IS NULL;"
   ]
  },
  {
   "cell_type": "code",
   "execution_count": 40,
   "metadata": {
    "collapsed": false
   },
   "outputs": [
    {
     "name": "stdout",
     "output_type": "stream",
     "text": [
      "1144 rows affected.\n"
     ]
    },
    {
     "data": {
      "text/plain": [
       "[]"
      ]
     },
     "execution_count": 40,
     "metadata": {},
     "output_type": "execute_result"
    }
   ],
   "source": [
    "%%sql\n",
    "UPDATE sr\n",
    "SET CouncilDistrict = 9999\n",
    "WHERE CouncilDistrict IS NULL;"
   ]
  },
  {
   "cell_type": "markdown",
   "metadata": {},
   "source": [
    "### Step 3. We create the dimension table time, the dimension table location, and the dimension table type."
   ]
  },
  {
   "cell_type": "code",
   "execution_count": 41,
   "metadata": {
    "collapsed": false
   },
   "outputs": [
    {
     "name": "stdout",
     "output_type": "stream",
     "text": [
      "Done.\n",
      "Done.\n"
     ]
    },
    {
     "data": {
      "text/plain": [
       "[]"
      ]
     },
     "execution_count": 41,
     "metadata": {},
     "output_type": "execute_result"
    }
   ],
   "source": [
    "%%sql\n",
    "DROP TABLE IF EXISTS time;\n",
    "CREATE TABLE time(\n",
    "    day_key SERIAL,\n",
    "    created_date TIMESTAMP,\n",
    "    day_of_year CHAR(10),\n",
    "    year INTEGER,\n",
    "    month INTEGER,\n",
    "    day INTEGER,\n",
    "    day_of_week_str CHAR(9),\n",
    "    quarter INTEGER,\n",
    "    CONSTRAINT pk_day_key PRIMARY KEY(day_key)\n",
    ");"
   ]
  },
  {
   "cell_type": "code",
   "execution_count": 42,
   "metadata": {
    "collapsed": false
   },
   "outputs": [
    {
     "name": "stdout",
     "output_type": "stream",
     "text": [
      "84329 rows affected.\n"
     ]
    },
    {
     "data": {
      "text/plain": [
       "[]"
      ]
     },
     "execution_count": 42,
     "metadata": {},
     "output_type": "execute_result"
    }
   ],
   "source": [
    "%%sql\n",
    "INSERT INTO time(created_date,day_of_year,year,month,day,day_of_week_str,quarter)\n",
    "SELECT DISTINCT created_date,\n",
    "    TO_CHAR(created_date, 'YYYY-MM-DD') AS day_of_year,\n",
    "    CAST(TO_CHAR(created_date, 'YYYY') AS INTEGER) AS year,\n",
    "    CAST(TO_CHAR(created_date, 'MM') AS INTEGER) AS month,\n",
    "    CAST(TO_CHAR(created_date, 'DD') AS INTEGER) AS day,\n",
    "    TO_CHAR(created_date, 'Day') AS day_of_week_str,\n",
    "    CAST(TO_CHAR(created_date, 'Q') AS INTEGER) AS quarter\n",
    "FROM sr;"
   ]
  },
  {
   "cell_type": "code",
   "execution_count": 43,
   "metadata": {
    "collapsed": false
   },
   "outputs": [
    {
     "name": "stdout",
     "output_type": "stream",
     "text": [
      "Done.\n",
      "Done.\n"
     ]
    },
    {
     "data": {
      "text/plain": [
       "[]"
      ]
     },
     "execution_count": 43,
     "metadata": {},
     "output_type": "execute_result"
    }
   ],
   "source": [
    "%%sql\n",
    "DROP TABLE IF EXISTS location;\n",
    "CREATE TABLE location(\n",
    "    address_key SERIAL,\n",
    "    streetaddress VARCHAR(151),\n",
    "    zipcode INTEGER,\n",
    "    councildistrict INTEGER,\n",
    "    CONSTRAINT pk_address_key PRIMARY KEY(address_key)\n",
    ");"
   ]
  },
  {
   "cell_type": "code",
   "execution_count": 44,
   "metadata": {
    "collapsed": false
   },
   "outputs": [
    {
     "name": "stdout",
     "output_type": "stream",
     "text": [
      "43106 rows affected.\n"
     ]
    },
    {
     "data": {
      "text/plain": [
       "[]"
      ]
     },
     "execution_count": 44,
     "metadata": {},
     "output_type": "execute_result"
    }
   ],
   "source": [
    "%%sql\n",
    "INSERT INTO location(streetaddress,zipcode,councildistrict)\n",
    "SELECT DISTINCT address,zip_code,CouncilDistrict\n",
    "FROM sr;"
   ]
  },
  {
   "cell_type": "code",
   "execution_count": 45,
   "metadata": {
    "collapsed": false
   },
   "outputs": [
    {
     "name": "stdout",
     "output_type": "stream",
     "text": [
      "Done.\n",
      "Done.\n"
     ]
    },
    {
     "data": {
      "text/plain": [
       "[]"
      ]
     },
     "execution_count": 45,
     "metadata": {},
     "output_type": "execute_result"
    }
   ],
   "source": [
    "%%sql\n",
    "DROP TABLE IF EXISTS sr_type;\n",
    "CREATE TABLE sr_type(\n",
    "    type_key SERIAL,\n",
    "    sr_code VARCHAR(8),\n",
    "    sr_description VARCHAR(51),\n",
    "    CONSTRAINT pk_type_key PRIMARY KEY(type_key)\n",
    ");"
   ]
  },
  {
   "cell_type": "code",
   "execution_count": 46,
   "metadata": {
    "collapsed": false
   },
   "outputs": [
    {
     "name": "stdout",
     "output_type": "stream",
     "text": [
      "56 rows affected.\n"
     ]
    },
    {
     "data": {
      "text/plain": [
       "[]"
      ]
     },
     "execution_count": 46,
     "metadata": {},
     "output_type": "execute_result"
    }
   ],
   "source": [
    "%%sql\n",
    "INSERT INTO sr_type(sr_code,sr_description)\n",
    "SELECT DISTINCT code,description\n",
    "FROM sr;"
   ]
  },
  {
   "cell_type": "markdown",
   "metadata": {},
   "source": [
    "### we create a table days, which is used later for joining with sr. "
   ]
  },
  {
   "cell_type": "code",
   "execution_count": 47,
   "metadata": {
    "collapsed": false
   },
   "outputs": [
    {
     "name": "stdout",
     "output_type": "stream",
     "text": [
      "Done.\n",
      "Done.\n"
     ]
    },
    {
     "data": {
      "text/plain": [
       "[]"
      ]
     },
     "execution_count": 47,
     "metadata": {},
     "output_type": "execute_result"
    }
   ],
   "source": [
    "%%sql \n",
    "DROP TABLE IF EXISTS days;\n",
    "CREATE TABLE days(\n",
    "    srnumber VARCHAR(11),\n",
    "    created_date TIMESTAMP,\n",
    "    day_of_year CHAR(10),\n",
    "    year INTEGER,\n",
    "    month INTEGER,\n",
    "    day INTEGER,\n",
    "    day_of_week_str CHAR(9),\n",
    "    quarter INTEGER\n",
    ");"
   ]
  },
  {
   "cell_type": "code",
   "execution_count": 48,
   "metadata": {
    "collapsed": false
   },
   "outputs": [
    {
     "name": "stdout",
     "output_type": "stream",
     "text": [
      "84578 rows affected.\n"
     ]
    },
    {
     "data": {
      "text/plain": [
       "[]"
      ]
     },
     "execution_count": 48,
     "metadata": {},
     "output_type": "execute_result"
    }
   ],
   "source": [
    "%%sql\n",
    "INSERT INTO days(srnumber,created_date,day_of_year,year,month,day,day_of_week_str,quarter)\n",
    "SELECT DISTINCT sr_number,created_date,\n",
    "    TO_CHAR(created_date, 'YYYY-MM-DD') AS day_of_year,\n",
    "    CAST(TO_CHAR(created_date, 'YYYY') AS INTEGER) AS year,\n",
    "    CAST(TO_CHAR(created_date, 'MM') AS INTEGER) AS month,\n",
    "    CAST(TO_CHAR(created_date, 'DD') AS INTEGER) AS day,\n",
    "    TO_CHAR(created_date, 'Day') AS day_of_week_str,\n",
    "    CAST(TO_CHAR(created_date, 'Q') AS INTEGER) AS quarter\n",
    "FROM sr;"
   ]
  },
  {
   "cell_type": "markdown",
   "metadata": {},
   "source": [
    "### Step 4. We join days with sr to load data into this initial fact table model and create foreign key references pointing to the primary keys in the dimension table which create the connection between the fact table and the dimension table. "
   ]
  },
  {
   "cell_type": "code",
   "execution_count": 50,
   "metadata": {
    "collapsed": false
   },
   "outputs": [
    {
     "name": "stdout",
     "output_type": "stream",
     "text": [
      "Done.\n",
      "Done.\n"
     ]
    },
    {
     "data": {
      "text/plain": [
       "[]"
      ]
     },
     "execution_count": 50,
     "metadata": {},
     "output_type": "execute_result"
    }
   ],
   "source": [
    "%%sql\n",
    "DROP TABLE IF EXISTS sr_fact;\n",
    "CREATE TABLE sr_fact(\n",
    "    sr_number VARCHAR(11),\n",
    "    type_key INTEGER,\n",
    "    date_key INTEGER,\n",
    "    address_key INTEGER,\n",
    "    code VARCHAR(8),\n",
    "    description VARCHAR(51),\n",
    "    address VARCHAR(151),\n",
    "    zip_code INTEGER,\n",
    "    CouncilDistrict INTEGER,\n",
    "    created_date TIMESTAMP,\n",
    "    day_of_year CHAR(10),\n",
    "    year INTEGER,\n",
    "    month INTEGER,\n",
    "    day INTEGER,\n",
    "    day_of_week_str CHAR(9),\n",
    "    quarter INTEGER,\n",
    "    FOREIGN KEY(type_key) REFERENCES sr_type(type_key),\n",
    "    FOREIGN KEY(address_key) REFERENCES location(address_key),\n",
    "    FOREIGN KEY(date_key) REFERENCES time(day_key)\n",
    ");"
   ]
  },
  {
   "cell_type": "code",
   "execution_count": 51,
   "metadata": {
    "collapsed": false
   },
   "outputs": [
    {
     "name": "stdout",
     "output_type": "stream",
     "text": [
      "84578 rows affected.\n"
     ]
    },
    {
     "data": {
      "text/plain": [
       "[]"
      ]
     },
     "execution_count": 51,
     "metadata": {},
     "output_type": "execute_result"
    }
   ],
   "source": [
    "%%sql\n",
    "INSERT INTO sr_fact(sr_number,code,description,created_date,address,zip_code,CouncilDistrict,day_of_year,year,\n",
    "                   month,day,day_of_week_str,quarter)\n",
    "SELECT DISTINCT sr.sr_number,\n",
    "code,\n",
    "description,\n",
    "sr.created_date,\n",
    "address,\n",
    "zip_code,\n",
    "CouncilDistrict,\n",
    "day_of_year,\n",
    "year,\n",
    "month,\n",
    "day,\n",
    "day_of_week_str,\n",
    "quarter\n",
    "FROM sr\n",
    "INNER JOIN days on sr.sr_number = days.srnumber;"
   ]
  },
  {
   "cell_type": "markdown",
   "metadata": {},
   "source": [
    "### We insert three primary keys from three dimension tables as our foreign key in the fact table"
   ]
  },
  {
   "cell_type": "code",
   "execution_count": 52,
   "metadata": {
    "collapsed": false
   },
   "outputs": [
    {
     "name": "stdout",
     "output_type": "stream",
     "text": [
      "84578 rows affected.\n"
     ]
    },
    {
     "data": {
      "text/plain": [
       "[]"
      ]
     },
     "execution_count": 52,
     "metadata": {},
     "output_type": "execute_result"
    }
   ],
   "source": [
    "%%sql\n",
    "UPDATE sr_fact\n",
    "SET type_key = sr_type.type_key\n",
    "FROM sr_type\n",
    "WHERE sr_fact.code = sr_type.sr_code AND sr_fact.description = sr_type.sr_description;"
   ]
  },
  {
   "cell_type": "code",
   "execution_count": 53,
   "metadata": {
    "collapsed": false
   },
   "outputs": [
    {
     "name": "stdout",
     "output_type": "stream",
     "text": [
      "84578 rows affected.\n"
     ]
    },
    {
     "data": {
      "text/plain": [
       "[]"
      ]
     },
     "execution_count": 53,
     "metadata": {},
     "output_type": "execute_result"
    }
   ],
   "source": [
    "%%sql\n",
    "UPDATE sr_fact\n",
    "SET date_key = time.day_key\n",
    "FROM time\n",
    "WHERE sr_fact.created_date = time.created_date;"
   ]
  },
  {
   "cell_type": "code",
   "execution_count": 54,
   "metadata": {
    "collapsed": false
   },
   "outputs": [
    {
     "name": "stdout",
     "output_type": "stream",
     "text": [
      "84578 rows affected.\n"
     ]
    },
    {
     "data": {
      "text/plain": [
       "[]"
      ]
     },
     "execution_count": 54,
     "metadata": {},
     "output_type": "execute_result"
    }
   ],
   "source": [
    "%%sql\n",
    "UPDATE sr_fact\n",
    "SET address_key = location.address_key\n",
    "FROM location\n",
    "WHERE sr_fact.address = location.streetaddress AND sr_fact.zip_code = location.zipcode \n",
    "      AND sr_fact.CouncilDistrict = location.councildistrict;"
   ]
  },
  {
   "cell_type": "code",
   "execution_count": 55,
   "metadata": {
    "collapsed": false
   },
   "outputs": [
    {
     "name": "stdout",
     "output_type": "stream",
     "text": [
      "2 rows affected.\n"
     ]
    },
    {
     "data": {
      "text/html": [
       "<table>\n",
       "    <tr>\n",
       "        <th>sr_number</th>\n",
       "        <th>type_key</th>\n",
       "        <th>date_key</th>\n",
       "        <th>address_key</th>\n",
       "        <th>code</th>\n",
       "        <th>description</th>\n",
       "        <th>address</th>\n",
       "        <th>zip_code</th>\n",
       "        <th>councildistrict</th>\n",
       "        <th>created_date</th>\n",
       "        <th>day_of_year</th>\n",
       "        <th>year</th>\n",
       "        <th>month</th>\n",
       "        <th>day</th>\n",
       "        <th>day_of_week_str</th>\n",
       "        <th>quarter</th>\n",
       "    </tr>\n",
       "    <tr>\n",
       "        <td>14-00104671</td>\n",
       "        <td>4</td>\n",
       "        <td>61236</td>\n",
       "        <td>102</td>\n",
       "        <td>SIGNNEWT</td>\n",
       "        <td>Sign - New</td>\n",
       "        <td>6609 FELIX AVE, AUSTIN, TX</td>\n",
       "        <td>78741</td>\n",
       "        <td>3</td>\n",
       "        <td>2014-05-31 12:30:02</td>\n",
       "        <td>2014-05-31</td>\n",
       "        <td>2014</td>\n",
       "        <td>5</td>\n",
       "        <td>31</td>\n",
       "        <td>Saturday </td>\n",
       "        <td>2</td>\n",
       "    </tr>\n",
       "    <tr>\n",
       "        <td>14-00112947</td>\n",
       "        <td>9</td>\n",
       "        <td>58588</td>\n",
       "        <td>36047</td>\n",
       "        <td>MOWINGME</td>\n",
       "        <td>Mowing Medians</td>\n",
       "        <td>900 REDD ST, AUSTIN, TX</td>\n",
       "        <td>78745</td>\n",
       "        <td>5</td>\n",
       "        <td>2014-06-10 07:55:39</td>\n",
       "        <td>2014-06-10</td>\n",
       "        <td>2014</td>\n",
       "        <td>6</td>\n",
       "        <td>10</td>\n",
       "        <td>Tuesday  </td>\n",
       "        <td>2</td>\n",
       "    </tr>\n",
       "</table>"
      ],
      "text/plain": [
       "[('14-00104671', 4, 61236, 102, 'SIGNNEWT', 'Sign - New', '6609 FELIX AVE, AUSTIN, TX', 78741, 3, datetime.datetime(2014, 5, 31, 12, 30, 2), '2014-05-31', 2014, 5, 31, 'Saturday ', 2),\n",
       " ('14-00112947', 9, 58588, 36047, 'MOWINGME', 'Mowing Medians', '900 REDD ST, AUSTIN, TX', 78745, 5, datetime.datetime(2014, 6, 10, 7, 55, 39), '2014-06-10', 2014, 6, 10, 'Tuesday  ', 2)]"
      ]
     },
     "execution_count": 55,
     "metadata": {},
     "output_type": "execute_result"
    }
   ],
   "source": [
    "%%sql\n",
    "SELECT *\n",
    "FROM sr_fact\n",
    "LIMIT 2;"
   ]
  },
  {
   "cell_type": "markdown",
   "metadata": {},
   "source": [
    "### We delete some columns which we  will not explore in following steps."
   ]
  },
  {
   "cell_type": "code",
   "execution_count": 56,
   "metadata": {
    "collapsed": false
   },
   "outputs": [
    {
     "name": "stdout",
     "output_type": "stream",
     "text": [
      "Done.\n",
      "Done.\n",
      "Done.\n",
      "Done.\n",
      "Done.\n",
      "Done.\n",
      "Done.\n",
      "Done.\n",
      "Done.\n",
      "Done.\n",
      "Done.\n",
      "Done.\n"
     ]
    },
    {
     "data": {
      "text/plain": [
       "[]"
      ]
     },
     "execution_count": 56,
     "metadata": {},
     "output_type": "execute_result"
    }
   ],
   "source": [
    "%%sql\n",
    "ALTER TABLE sr_fact\n",
    "DROP COLUMN code;\n",
    "ALTER TABLE sr_fact\n",
    "DROP COLUMN description;\n",
    "ALTER TABLE sr_fact\n",
    "DROP COLUMN address;\n",
    "ALTER TABLE sr_fact\n",
    "DROP COLUMN zip_code;\n",
    "ALTER TABLE sr_fact\n",
    "DROP COLUMN CouncilDistrict;\n",
    "ALTER TABLE sr_fact\n",
    "DROP COLUMN day_of_year;\n",
    "ALTER TABLE sr_fact\n",
    "DROP COLUMN year;\n",
    "ALTER TABLE sr_fact\n",
    "DROP COLUMN month;\n",
    "ALTER TABLE sr_fact\n",
    "DROP COLUMN day;\n",
    "ALTER TABLE sr_fact\n",
    "DROP COLUMN day_of_week_str;\n",
    "ALTER TABLE sr_fact\n",
    "DROP COLUMN quarter;\n",
    "ALTER TABLE sr_fact\n",
    "DROP COLUMN created_date;"
   ]
  },
  {
   "cell_type": "code",
   "execution_count": 57,
   "metadata": {
    "collapsed": false
   },
   "outputs": [
    {
     "name": "stdout",
     "output_type": "stream",
     "text": [
      "3 rows affected.\n"
     ]
    },
    {
     "data": {
      "text/html": [
       "<table>\n",
       "    <tr>\n",
       "        <th>sr_number</th>\n",
       "        <th>type_key</th>\n",
       "        <th>date_key</th>\n",
       "        <th>address_key</th>\n",
       "    </tr>\n",
       "    <tr>\n",
       "        <td>14-00112947</td>\n",
       "        <td>9</td>\n",
       "        <td>58588</td>\n",
       "        <td>36047</td>\n",
       "    </tr>\n",
       "    <tr>\n",
       "        <td>14-00146359</td>\n",
       "        <td>4</td>\n",
       "        <td>60823</td>\n",
       "        <td>34816</td>\n",
       "    </tr>\n",
       "    <tr>\n",
       "        <td>14-00185357</td>\n",
       "        <td>4</td>\n",
       "        <td>67196</td>\n",
       "        <td>4326</td>\n",
       "    </tr>\n",
       "</table>"
      ],
      "text/plain": [
       "[('14-00112947', 9, 58588, 36047),\n",
       " ('14-00146359', 4, 60823, 34816),\n",
       " ('14-00185357', 4, 67196, 4326)]"
      ]
     },
     "execution_count": 57,
     "metadata": {},
     "output_type": "execute_result"
    }
   ],
   "source": [
    "%%sql\n",
    "SELECT *\n",
    "FROM sr_fact\n",
    "LIMIT 3;"
   ]
  },
  {
   "cell_type": "markdown",
   "metadata": {},
   "source": [
    "### Below is the star schema diagram, it shows the relationship between fact table and dimension tables."
   ]
  },
  {
   "cell_type": "code",
   "execution_count": 58,
   "metadata": {
    "collapsed": false
   },
   "outputs": [
    {
     "data": {
      "text/html": [
       "<img src=\"https://github.com/Yuanjing-Han/Yuanjing-Han-istm-6212/raw/master/Star%20Schema_diagram.jpg\"/>"
      ],
      "text/plain": [
       "<IPython.core.display.Image object>"
      ]
     },
     "execution_count": 58,
     "metadata": {},
     "output_type": "execute_result"
    }
   ],
   "source": [
    "from IPython.display import Image\n",
    "Image(url=\"https://github.com/Yuanjing-Han/Yuanjing-Han-istm-6212/raw/master/Star%20Schema_diagram.jpg\")"
   ]
  },
  {
   "cell_type": "markdown",
   "metadata": {},
   "source": [
    "## Problem 4 - explore your data in its new schema (30 points)\n",
    "\n",
    "Strictly using the dimensional model tables you defined and populated for Problem 3, explore your data in its new form.  Use any of the query strategies we've seen in class, including transformations, aggregates, subqueries, rollups, and, of course, joins.  Add plots to highlight particular themes that stand out.  Describe your thinking and observations along the way."
   ]
  },
  {
   "cell_type": "markdown",
   "metadata": {},
   "source": [
    "### Question 1. We want to know how many service requests actually happened in the first quarter of 2014?"
   ]
  },
  {
   "cell_type": "code",
   "execution_count": 60,
   "metadata": {
    "collapsed": false
   },
   "outputs": [
    {
     "name": "stdout",
     "output_type": "stream",
     "text": [
      "1 rows affected.\n"
     ]
    },
    {
     "data": {
      "text/html": [
       "<table>\n",
       "    <tr>\n",
       "        <th>num_sr</th>\n",
       "    </tr>\n",
       "    <tr>\n",
       "        <td>5947</td>\n",
       "    </tr>\n",
       "</table>"
      ],
      "text/plain": [
       "[(5947,)]"
      ]
     },
     "execution_count": 60,
     "metadata": {},
     "output_type": "execute_result"
    }
   ],
   "source": [
    "%%sql\n",
    "SELECT COUNT(*) AS num_sr\n",
    "FROM (SELECT day_of_year,quarter,sr_number\n",
    "      FROM sr_fact\n",
    "      LEFT JOIN time ON sr_fact.date_key = time.day_key) AS d\n",
    "WHERE day_of_year LIKE '2014%' AND quarter = 1;"
   ]
  },
  {
   "cell_type": "markdown",
   "metadata": {},
   "source": [
    "### Question2. We want to know how many service requests actually happened in all Tuesdays of the second quarter in 2015?"
   ]
  },
  {
   "cell_type": "code",
   "execution_count": 62,
   "metadata": {
    "collapsed": false
   },
   "outputs": [
    {
     "name": "stdout",
     "output_type": "stream",
     "text": [
      "1 rows affected.\n"
     ]
    },
    {
     "data": {
      "text/html": [
       "<table>\n",
       "    <tr>\n",
       "        <th>num_sr</th>\n",
       "    </tr>\n",
       "    <tr>\n",
       "        <td>1778</td>\n",
       "    </tr>\n",
       "</table>"
      ],
      "text/plain": [
       "[(1778,)]"
      ]
     },
     "execution_count": 62,
     "metadata": {},
     "output_type": "execute_result"
    }
   ],
   "source": [
    "%%sql\n",
    "SELECT COUNT(*) AS num_sr\n",
    "FROM (SELECT day_of_year,quarter,day_of_week_str,sr_number\n",
    "      FROM sr_fact\n",
    "      LEFT JOIN time ON sr_fact.date_key = time.day_key) AS d\n",
    "WHERE day_of_year LIKE '2015%' AND quarter = 2 AND day_of_week_str = 'Tuesday';"
   ]
  },
  {
   "cell_type": "markdown",
   "metadata": {},
   "source": [
    "### Question 3. We want to konw which are the top 5 zipcode where service requests occured the most frequently in the third quarter of 2016 and what is the number of service requests in those top5 zipcode?"
   ]
  },
  {
   "cell_type": "code",
   "execution_count": 63,
   "metadata": {
    "collapsed": false
   },
   "outputs": [
    {
     "name": "stdout",
     "output_type": "stream",
     "text": [
      "5 rows affected.\n"
     ]
    },
    {
     "data": {
      "text/html": [
       "<table>\n",
       "    <tr>\n",
       "        <th>zipcode</th>\n",
       "        <th>count</th>\n",
       "    </tr>\n",
       "    <tr>\n",
       "        <td>78704</td>\n",
       "        <td>686</td>\n",
       "    </tr>\n",
       "    <tr>\n",
       "        <td>78745</td>\n",
       "        <td>626</td>\n",
       "    </tr>\n",
       "    <tr>\n",
       "        <td>78701</td>\n",
       "        <td>510</td>\n",
       "    </tr>\n",
       "    <tr>\n",
       "        <td>78744</td>\n",
       "        <td>422</td>\n",
       "    </tr>\n",
       "    <tr>\n",
       "        <td>78702</td>\n",
       "        <td>385</td>\n",
       "    </tr>\n",
       "</table>"
      ],
      "text/plain": [
       "[(78704, 686), (78745, 626), (78701, 510), (78744, 422), (78702, 385)]"
      ]
     },
     "execution_count": 63,
     "metadata": {},
     "output_type": "execute_result"
    }
   ],
   "source": [
    "%%sql\n",
    "SELECT zipcode,COUNT(*)\n",
    "FROM(\n",
    "    SELECT day_of_year,quarter,zipcode,sr_number\n",
    "    FROM sr_fact\n",
    "    LEFT JOIN time ON sr_fact.date_key = time.day_key\n",
    "    LEFT JOIN location ON sr_fact.address_key = location.address_key) AS d\n",
    "WHERE day_of_year LIKE '2016%' AND quarter = 3\n",
    "GROUP BY zipcode\n",
    "ORDER BY COUNT(*)DESC\n",
    "LIMIT 5;"
   ]
  },
  {
   "cell_type": "code",
   "execution_count": 64,
   "metadata": {
    "collapsed": false
   },
   "outputs": [
    {
     "data": {
      "text/plain": [
       "<Container object of 5 artists>"
      ]
     },
     "execution_count": 64,
     "metadata": {},
     "output_type": "execute_result"
    },
    {
     "data": {
      "image/png": "[encoded data removed]",
      "text/plain": [
       "<matplotlib.figure.Figure at 0x7fe593b6e358>"
      ]
     },
     "metadata": {},
     "output_type": "display_data"
    }
   ],
   "source": [
    "%matplotlib inline\n",
    "result = _\n",
    "result.bar()"
   ]
  },
  {
   "cell_type": "markdown",
   "metadata": {},
   "source": [
    "Similarly, we want to konw which are the top 5 council districts where service requests occured the most frequently in the third quarter of 2016 and what is the number of service requests in those top5 council districts?"
   ]
  },
  {
   "cell_type": "code",
   "execution_count": 65,
   "metadata": {
    "collapsed": false
   },
   "outputs": [
    {
     "name": "stdout",
     "output_type": "stream",
     "text": [
      "5 rows affected.\n"
     ]
    },
    {
     "data": {
      "text/html": [
       "<table>\n",
       "    <tr>\n",
       "        <th>councildistrict</th>\n",
       "        <th>count</th>\n",
       "    </tr>\n",
       "    <tr>\n",
       "        <td>9</td>\n",
       "        <td>1454</td>\n",
       "    </tr>\n",
       "    <tr>\n",
       "        <td>10</td>\n",
       "        <td>816</td>\n",
       "    </tr>\n",
       "    <tr>\n",
       "        <td>1</td>\n",
       "        <td>746</td>\n",
       "    </tr>\n",
       "    <tr>\n",
       "        <td>3</td>\n",
       "        <td>702</td>\n",
       "    </tr>\n",
       "    <tr>\n",
       "        <td>7</td>\n",
       "        <td>661</td>\n",
       "    </tr>\n",
       "</table>"
      ],
      "text/plain": [
       "[(9, 1454), (10, 816), (1, 746), (3, 702), (7, 661)]"
      ]
     },
     "execution_count": 65,
     "metadata": {},
     "output_type": "execute_result"
    }
   ],
   "source": [
    "%%sql\n",
    "SELECT councildistrict,COUNT(*)\n",
    "FROM(\n",
    "    SELECT day_of_year,quarter,councildistrict,sr_number\n",
    "    FROM sr_fact\n",
    "    LEFT JOIN time ON sr_fact.date_key = time.day_key\n",
    "    LEFT JOIN location ON sr_fact.address_key = location.address_key) AS d\n",
    "WHERE day_of_year LIKE '2015%' AND quarter = 4\n",
    "GROUP BY councildistrict\n",
    "ORDER BY COUNT(*)DESC\n",
    "LIMIT 5;"
   ]
  },
  {
   "cell_type": "code",
   "execution_count": 66,
   "metadata": {
    "collapsed": false
   },
   "outputs": [
    {
     "data": {
      "text/plain": [
       "<Container object of 5 artists>"
      ]
     },
     "execution_count": 66,
     "metadata": {},
     "output_type": "execute_result"
    },
    {
     "data": {
      "image/png": "[encoded data removed]",
      "text/plain": [
       "<matplotlib.figure.Figure at 0x7fe593b6e390>"
      ]
     },
     "metadata": {},
     "output_type": "display_data"
    }
   ],
   "source": [
    "%matplotlib inline\n",
    "result = _\n",
    "result.bar()"
   ]
  },
  {
   "cell_type": "markdown",
   "metadata": {},
   "source": [
    "### Question 4. We want to know in the third quarter of 2014, in each zipcode, which type of service requests happened the most frequently? It seems that in each single zip code, service request concerning Traffic signal maintenance happened the most frequently."
   ]
  },
  {
   "cell_type": "code",
   "execution_count": 68,
   "metadata": {
    "collapsed": false
   },
   "outputs": [
    {
     "name": "stdout",
     "output_type": "stream",
     "text": [
      "10 rows affected.\n"
     ]
    },
    {
     "data": {
      "text/html": [
       "<table>\n",
       "    <tr>\n",
       "        <th>zipcode</th>\n",
       "        <th>sr_description</th>\n",
       "        <th>count</th>\n",
       "    </tr>\n",
       "    <tr>\n",
       "        <td>78759</td>\n",
       "        <td>Traffic Signal - Maintenance</td>\n",
       "        <td>225</td>\n",
       "    </tr>\n",
       "    <tr>\n",
       "        <td>78701</td>\n",
       "        <td>Parking Machine Issue</td>\n",
       "        <td>170</td>\n",
       "    </tr>\n",
       "    <tr>\n",
       "        <td>78758</td>\n",
       "        <td>Traffic Signal - Maintenance</td>\n",
       "        <td>147</td>\n",
       "    </tr>\n",
       "    <tr>\n",
       "        <td>78749</td>\n",
       "        <td>Traffic Signal - Maintenance</td>\n",
       "        <td>130</td>\n",
       "    </tr>\n",
       "    <tr>\n",
       "        <td>78723</td>\n",
       "        <td>Traffic Signal - Maintenance</td>\n",
       "        <td>108</td>\n",
       "    </tr>\n",
       "    <tr>\n",
       "        <td>78757</td>\n",
       "        <td>Traffic Signal - Maintenance</td>\n",
       "        <td>106</td>\n",
       "    </tr>\n",
       "    <tr>\n",
       "        <td>78744</td>\n",
       "        <td>Traffic Signal - Maintenance</td>\n",
       "        <td>105</td>\n",
       "    </tr>\n",
       "    <tr>\n",
       "        <td>78704</td>\n",
       "        <td>Traffic Signal - Maintenance</td>\n",
       "        <td>105</td>\n",
       "    </tr>\n",
       "    <tr>\n",
       "        <td>78703</td>\n",
       "        <td>Traffic Signal - Maintenance</td>\n",
       "        <td>98</td>\n",
       "    </tr>\n",
       "    <tr>\n",
       "        <td>78741</td>\n",
       "        <td>Traffic Signal - Maintenance</td>\n",
       "        <td>96</td>\n",
       "    </tr>\n",
       "</table>"
      ],
      "text/plain": [
       "[(78759, 'Traffic Signal - Maintenance', 225),\n",
       " (78701, 'Parking Machine Issue', 170),\n",
       " (78758, 'Traffic Signal - Maintenance', 147),\n",
       " (78749, 'Traffic Signal - Maintenance', 130),\n",
       " (78723, 'Traffic Signal - Maintenance', 108),\n",
       " (78757, 'Traffic Signal - Maintenance', 106),\n",
       " (78744, 'Traffic Signal - Maintenance', 105),\n",
       " (78704, 'Traffic Signal - Maintenance', 105),\n",
       " (78703, 'Traffic Signal - Maintenance', 98),\n",
       " (78741, 'Traffic Signal - Maintenance', 96)]"
      ]
     },
     "execution_count": 68,
     "metadata": {},
     "output_type": "execute_result"
    }
   ],
   "source": [
    "%%sql\n",
    "SELECT DISTINCT zipcode,sr_description,COUNT(*)\n",
    "FROM(\n",
    "    SELECT day_of_year,quarter,zipcode,sr_description,sr_number\n",
    "    FROM sr_fact\n",
    "    LEFT JOIN time ON sr_fact.date_key = time.day_key\n",
    "    LEFT JOIN location ON sr_fact.address_key = location.address_key\n",
    "    LEFT JOIN sr_type ON sr_fact.type_key = sr_type.type_key) AS d\n",
    "WHERE day_of_year LIKE '2014%' AND quarter = 3 \n",
    "GROUP BY zipcode,sr_description\n",
    "ORDER BY COUNT(*)DESC\n",
    "LIMIT 10;"
   ]
  },
  {
   "cell_type": "markdown",
   "metadata": {},
   "source": [
    "Since our data contain service requests from the beginning of 2014 to the end of 2016, we want to know in each three identical quarter of these three years, in a centain zip code, what type of service requests happened and there are how many of them? "
   ]
  },
  {
   "cell_type": "code",
   "execution_count": 70,
   "metadata": {
    "collapsed": false
   },
   "outputs": [
    {
     "name": "stdout",
     "output_type": "stream",
     "text": [
      "10 rows affected.\n"
     ]
    },
    {
     "data": {
      "text/html": [
       "<table>\n",
       "    <tr>\n",
       "        <th>quarter</th>\n",
       "        <th>zipcode</th>\n",
       "        <th>sr_description</th>\n",
       "        <th>count</th>\n",
       "    </tr>\n",
       "    <tr>\n",
       "        <td>1</td>\n",
       "        <td>78617</td>\n",
       "        <td>Concerns in the ROW</td>\n",
       "        <td>2</td>\n",
       "    </tr>\n",
       "    <tr>\n",
       "        <td>1</td>\n",
       "        <td>78617</td>\n",
       "        <td>Debris in Street</td>\n",
       "        <td>1</td>\n",
       "    </tr>\n",
       "    <tr>\n",
       "        <td>1</td>\n",
       "        <td>78617</td>\n",
       "        <td>Guardrail Repair</td>\n",
       "        <td>5</td>\n",
       "    </tr>\n",
       "    <tr>\n",
       "        <td>1</td>\n",
       "        <td>78617</td>\n",
       "        <td>Pavement Failure</td>\n",
       "        <td>2</td>\n",
       "    </tr>\n",
       "    <tr>\n",
       "        <td>1</td>\n",
       "        <td>78617</td>\n",
       "        <td>Pothole Repair</td>\n",
       "        <td>6</td>\n",
       "    </tr>\n",
       "    <tr>\n",
       "        <td>1</td>\n",
       "        <td>78617</td>\n",
       "        <td>Road Markings/Striping - Maintenance</td>\n",
       "        <td>1</td>\n",
       "    </tr>\n",
       "    <tr>\n",
       "        <td>1</td>\n",
       "        <td>78617</td>\n",
       "        <td>Road Markings/Striping - New</td>\n",
       "        <td>1</td>\n",
       "    </tr>\n",
       "    <tr>\n",
       "        <td>1</td>\n",
       "        <td>78617</td>\n",
       "        <td>Road Sanding Request</td>\n",
       "        <td>1</td>\n",
       "    </tr>\n",
       "    <tr>\n",
       "        <td>1</td>\n",
       "        <td>78617</td>\n",
       "        <td>School Zone - New/Review/Changes</td>\n",
       "        <td>2</td>\n",
       "    </tr>\n",
       "    <tr>\n",
       "        <td>1</td>\n",
       "        <td>78617</td>\n",
       "        <td>School Zone Flasher - Timing/Maintenance</td>\n",
       "        <td>3</td>\n",
       "    </tr>\n",
       "</table>"
      ],
      "text/plain": [
       "[(1, 78617, 'Concerns in the ROW', 2),\n",
       " (1, 78617, 'Debris in Street', 1),\n",
       " (1, 78617, 'Guardrail Repair', 5),\n",
       " (1, 78617, 'Pavement Failure', 2),\n",
       " (1, 78617, 'Pothole Repair', 6),\n",
       " (1, 78617, 'Road Markings/Striping - Maintenance', 1),\n",
       " (1, 78617, 'Road Markings/Striping - New', 1),\n",
       " (1, 78617, 'Road Sanding Request', 1),\n",
       " (1, 78617, 'School Zone - New/Review/Changes', 2),\n",
       " (1, 78617, 'School Zone Flasher - Timing/Maintenance', 3)]"
      ]
     },
     "execution_count": 70,
     "metadata": {},
     "output_type": "execute_result"
    }
   ],
   "source": [
    "%%sql\n",
    "SELECT quarter,zipcode,sr_description,COUNT(*)\n",
    "FROM(\n",
    "    SELECT quarter,zipcode,sr_description,sr_number\n",
    "    FROM sr_fact\n",
    "    LEFT JOIN time ON sr_fact.date_key = time.day_key\n",
    "    LEFT JOIN location ON sr_fact.address_key = location.address_key\n",
    "    LEFT JOIN sr_type ON sr_fact.type_key = sr_type.type_key) AS d\n",
    "GROUP BY ROLLUP(quarter,zipcode,sr_description)\n",
    "LIMIT 10;"
   ]
  },
  {
   "cell_type": "markdown",
   "metadata": {},
   "source": [
    "### Question 5. We want to know in the year of 2016, what is the top 10 types of service request in Travis, Austin?"
   ]
  },
  {
   "cell_type": "code",
   "execution_count": 72,
   "metadata": {
    "collapsed": false
   },
   "outputs": [
    {
     "name": "stdout",
     "output_type": "stream",
     "text": [
      "10 rows affected.\n"
     ]
    },
    {
     "data": {
      "text/html": [
       "<table>\n",
       "    <tr>\n",
       "        <th>sr_description</th>\n",
       "        <th>count</th>\n",
       "    </tr>\n",
       "    <tr>\n",
       "        <td>Traffic Signal - Maintenance</td>\n",
       "        <td>5680</td>\n",
       "    </tr>\n",
       "    <tr>\n",
       "        <td>Tree Issue ROW/Maintenance (PW)</td>\n",
       "        <td>1791</td>\n",
       "    </tr>\n",
       "    <tr>\n",
       "        <td>Debris in Street</td>\n",
       "        <td>1612</td>\n",
       "    </tr>\n",
       "    <tr>\n",
       "        <td>Tree Issue ROW/Emergency (PW)</td>\n",
       "        <td>1573</td>\n",
       "    </tr>\n",
       "    <tr>\n",
       "        <td>Obstruction in ROW</td>\n",
       "        <td>1350</td>\n",
       "    </tr>\n",
       "    <tr>\n",
       "        <td>Pothole Repair</td>\n",
       "        <td>1183</td>\n",
       "    </tr>\n",
       "    <tr>\n",
       "        <td>Traffic Signal - Dig Tess Request</td>\n",
       "        <td>1015</td>\n",
       "    </tr>\n",
       "    <tr>\n",
       "        <td>Mowing Medians</td>\n",
       "        <td>800</td>\n",
       "    </tr>\n",
       "    <tr>\n",
       "        <td>View Obstruction at Intersection</td>\n",
       "        <td>793</td>\n",
       "    </tr>\n",
       "    <tr>\n",
       "        <td>Parking Machine Issue</td>\n",
       "        <td>775</td>\n",
       "    </tr>\n",
       "</table>"
      ],
      "text/plain": [
       "[('Traffic Signal - Maintenance', 5680),\n",
       " ('Tree Issue ROW/Maintenance (PW)', 1791),\n",
       " ('Debris in Street', 1612),\n",
       " ('Tree Issue ROW/Emergency (PW)', 1573),\n",
       " ('Obstruction in ROW', 1350),\n",
       " ('Pothole Repair', 1183),\n",
       " ('Traffic Signal - Dig Tess Request', 1015),\n",
       " ('Mowing Medians', 800),\n",
       " ('View Obstruction at Intersection', 793),\n",
       " ('Parking Machine Issue', 775)]"
      ]
     },
     "execution_count": 72,
     "metadata": {},
     "output_type": "execute_result"
    }
   ],
   "source": [
    "%%sql\n",
    "SELECT sr_description, COUNT(*)\n",
    "FROM(\n",
    "    SELECT day_of_year,month,quarter,sr_description,sr_number\n",
    "    FROM sr_fact\n",
    "    LEFT JOIN time ON sr_fact.date_key = time.day_key\n",
    "    LEFT JOIN sr_type ON sr_fact.type_key = sr_type.type_key) AS d\n",
    "WHERE day_of_year LIKE '2016%' \n",
    "GROUP BY sr_description\n",
    "ORDER BY COUNT(*) DESC\n",
    "LIMIT 10;"
   ]
  },
  {
   "cell_type": "markdown",
   "metadata": {},
   "source": [
    "### Question6. We want to know in the year of 2015, which councils have higher than average frequencies of service requests?"
   ]
  },
  {
   "cell_type": "code",
   "execution_count": 73,
   "metadata": {
    "collapsed": false
   },
   "outputs": [
    {
     "name": "stdout",
     "output_type": "stream",
     "text": [
      "11 rows affected.\n"
     ]
    },
    {
     "data": {
      "text/html": [
       "<table>\n",
       "    <tr>\n",
       "        <th>councildistrict</th>\n",
       "        <th>count</th>\n",
       "    </tr>\n",
       "    <tr>\n",
       "        <td>9</td>\n",
       "        <td>6832</td>\n",
       "    </tr>\n",
       "    <tr>\n",
       "        <td>1</td>\n",
       "        <td>3793</td>\n",
       "    </tr>\n",
       "    <tr>\n",
       "        <td>7</td>\n",
       "        <td>3583</td>\n",
       "    </tr>\n",
       "    <tr>\n",
       "        <td>10</td>\n",
       "        <td>3439</td>\n",
       "    </tr>\n",
       "    <tr>\n",
       "        <td>5</td>\n",
       "        <td>3207</td>\n",
       "    </tr>\n",
       "    <tr>\n",
       "        <td>3</td>\n",
       "        <td>3147</td>\n",
       "    </tr>\n",
       "    <tr>\n",
       "        <td>2</td>\n",
       "        <td>2547</td>\n",
       "    </tr>\n",
       "    <tr>\n",
       "        <td>4</td>\n",
       "        <td>2324</td>\n",
       "    </tr>\n",
       "    <tr>\n",
       "        <td>8</td>\n",
       "        <td>2275</td>\n",
       "    </tr>\n",
       "    <tr>\n",
       "        <td>6</td>\n",
       "        <td>560</td>\n",
       "    </tr>\n",
       "    <tr>\n",
       "        <td>9999</td>\n",
       "        <td>314</td>\n",
       "    </tr>\n",
       "</table>"
      ],
      "text/plain": [
       "[(9, 6832),\n",
       " (1, 3793),\n",
       " (7, 3583),\n",
       " (10, 3439),\n",
       " (5, 3207),\n",
       " (3, 3147),\n",
       " (2, 2547),\n",
       " (4, 2324),\n",
       " (8, 2275),\n",
       " (6, 560),\n",
       " (9999, 314)]"
      ]
     },
     "execution_count": 73,
     "metadata": {},
     "output_type": "execute_result"
    }
   ],
   "source": [
    "%%sql\n",
    "SELECT councildistrict, COUNT(*) \n",
    "FROM (SELECT day_of_year, councildistrict, sr_number\n",
    "     FROM sr_fact\n",
    "     LEFT JOIN time ON sr_fact.date_key = time.day_key\n",
    "     LEFT JOIN location ON sr_fact.address_key = location.address_key) AS g\n",
    "WHERE day_of_year LIKE '2015%'\n",
    "GROUP BY councildistrict \n",
    "ORDER BY COUNT(*) DESC;"
   ]
  },
  {
   "cell_type": "code",
   "execution_count": 74,
   "metadata": {
    "collapsed": false
   },
   "outputs": [
    {
     "name": "stdout",
     "output_type": "stream",
     "text": [
      "Done.\n",
      "Done.\n"
     ]
    },
    {
     "data": {
      "text/plain": [
       "[]"
      ]
     },
     "execution_count": 74,
     "metadata": {},
     "output_type": "execute_result"
    }
   ],
   "source": [
    "%%sql\n",
    "DROP TABLE IF EXISTS councildistrict_frequency;\n",
    "CREATE TABLE councildistrict_frequency(\n",
    "    CouncilDistrict INTEGER,\n",
    "    number_of_request INTEGER\n",
    ");"
   ]
  },
  {
   "cell_type": "code",
   "execution_count": 75,
   "metadata": {
    "collapsed": false
   },
   "outputs": [
    {
     "name": "stdout",
     "output_type": "stream",
     "text": [
      "11 rows affected.\n"
     ]
    },
    {
     "data": {
      "text/plain": [
       "[]"
      ]
     },
     "execution_count": 75,
     "metadata": {},
     "output_type": "execute_result"
    }
   ],
   "source": [
    "%%sql\n",
    "INSERT INTO councildistrict_frequency(CouncilDistrict,number_of_request)\n",
    "SELECT DISTINCT councildistrict, COUNT(*) \n",
    "FROM (SELECT day_of_year, councildistrict, sr_number\n",
    "     FROM sr_fact\n",
    "     LEFT JOIN time ON sr_fact.date_key = time.day_key\n",
    "     LEFT JOIN location ON sr_fact.address_key = location.address_key) AS g\n",
    "WHERE day_of_year LIKE '2015%'\n",
    "GROUP BY councildistrict \n",
    "ORDER BY COUNT(*) DESC;"
   ]
  },
  {
   "cell_type": "code",
   "execution_count": 76,
   "metadata": {
    "collapsed": false
   },
   "outputs": [
    {
     "name": "stdout",
     "output_type": "stream",
     "text": [
      "6 rows affected.\n"
     ]
    },
    {
     "data": {
      "text/html": [
       "<table>\n",
       "    <tr>\n",
       "        <th>councildistrict</th>\n",
       "        <th>number_of_request</th>\n",
       "    </tr>\n",
       "    <tr>\n",
       "        <td>9</td>\n",
       "        <td>6832</td>\n",
       "    </tr>\n",
       "    <tr>\n",
       "        <td>1</td>\n",
       "        <td>3793</td>\n",
       "    </tr>\n",
       "    <tr>\n",
       "        <td>7</td>\n",
       "        <td>3583</td>\n",
       "    </tr>\n",
       "    <tr>\n",
       "        <td>10</td>\n",
       "        <td>3439</td>\n",
       "    </tr>\n",
       "    <tr>\n",
       "        <td>5</td>\n",
       "        <td>3207</td>\n",
       "    </tr>\n",
       "    <tr>\n",
       "        <td>3</td>\n",
       "        <td>3147</td>\n",
       "    </tr>\n",
       "</table>"
      ],
      "text/plain": [
       "[(9, 6832), (1, 3793), (7, 3583), (10, 3439), (5, 3207), (3, 3147)]"
      ]
     },
     "execution_count": 76,
     "metadata": {},
     "output_type": "execute_result"
    }
   ],
   "source": [
    "%%sql\n",
    "SELECT * \n",
    "FROM councildistrict_frequency\n",
    "WHERE \n",
    "    number_of_request > (SELECT AVG(number_of_request) FROM councildistrict_frequency);"
   ]
  },
  {
   "cell_type": "markdown",
   "metadata": {},
   "source": [
    "## Bonus (10 points for one of A or B)\n",
    "\n",
    "\n",
    "### Option A - Automating ETL\n",
    "\n",
    "Consider the work you did to load your original raw dataset and then transform it into a dimensional model for analysis.  What would it take to automate this process?  How often would you need to update the data?  Could you easily automate any data cleaning steps?  What checks would you need to put in place to ensure quality?  Would humans need to be involved, or could you automate it all?\n",
    "\n",
    "Discuss.\n",
    "\n",
    "\n",
    "### Option B - Augmenting dimensions\n",
    "\n",
    "Considering your dimensional model, what external data could you find to augment it?  As in the case of bike trips, where weather might provide an interesting added dimension/context not present in the original data, you can probably find another source of data to complement your own model.  Identify one such source and add it to your model, demonstrating its value with a few new queries."
   ]
  },
  {
   "cell_type": "markdown",
   "metadata": {},
   "source": [
    "## Option A\n",
    "#### What would it take to automate this process?\n",
    "To automate this process, firstly, we need to supplement the existing tables in the database with the data obtained from outside your organization. The data may be commercially available datasets or data from less structured sources such as social media or more. Secondly, you will need to cleanse, validate and transform the data before loading it into an existing database. Thirdly, Extract, transform and load(ETL) operations can perform data categorization, de-duplication, matching and summary operations on unstructured or semi-structured data to generate data in familiar rows and columns that can be imported into a database table or a data warehouse.\n",
    "\n",
    "#### How often would you need to update the data? \n",
    "When new data coming in or the existing records changing, it’s time to update the data but that is not practical since you can’t update that frequently if data continue changing or coming in. I think the most reasonable updating frequency would be one time per day.\n",
    "\n",
    "#### Could you easily automate any data cleaning steps?\n",
    "I think generally I could. The data cleaning process seems rather fixed and we can apply the existing postgreSQL code to new data in the column. We have NULL values in several columns, such as zip code, council district and close date---they are of different data types, but we could use the stored code to automate the data cleaning process.\n",
    "\n",
    "#### What checks would you need to put in place to ensure quality? \n",
    "In my case with the service request datasets, I checked if service request number is the unique identifier of the whole dataset and fortunately the answer is yes which means that every record is unique and there are no duplicates concerning each service request record and our dataset is quite neat although we have many missing values. With that unique identifier, we can do ETL operations such as JOIN, COUNT etc more easily.  \n",
    "\n",
    "#### Would humans need to be involved, or could you automate it all?\n",
    "I thing in our case humans would not need to be involved in automating process since we have unique identifier---service request number and we could apply our stored SQL code to deal with all columns of data associated with their data types.\n"
   ]
  },
  {
   "cell_type": "markdown",
   "metadata": {
    "collapsed": true
   },
   "source": [
    "## Completed by Yuanjing Han and Youdan Shi.We collaborate with each other to finish all the code and markdown. We're both satisfied with the contribution of each other."
   ]
  },
  {
   "cell_type": "code",
   "execution_count": null,
   "metadata": {
    "collapsed": true
   },
   "outputs": [],
   "source": []
  }
 ],
 "metadata": {
  "anaconda-cloud": {},
  "kernelspec": {
   "display_name": "Python 3",
   "language": "python",
   "name": "python3"
  },
  "language_info": {
   "codemirror_mode": {
    "name": "ipython",
    "version": 3
   },
   "file_extension": ".py",
   "mimetype": "text/x-python",
   "name": "python",
   "nbconvert_exporter": "python",
   "pygments_lexer": "ipython3",
   "version": "3.5.2"
  }
 },
 "nbformat": 4,
 "nbformat_minor": 1
}
